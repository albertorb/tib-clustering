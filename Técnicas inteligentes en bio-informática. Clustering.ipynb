{
 "cells": [
  {
   "cell_type": "markdown",
   "metadata": {},
   "source": [
    "# Técnicas inteligentes en Bio-Informática\n",
    "\n",
    "## Clustering\n",
    "\n",
    "A continuación se muestran ejemplos de uso de algunos algoritmos de clustering utilizando Python 2.7.11\n",
    "\n",
    "Se utilizará el dataset \"GDS810” obtenido de {DATASET_URL} que contiene datos sobre la enfermedad del Alzheimer en varias fases de severidad.\n",
    "\n",
    "### Algoritmos\n",
    "\n",
    "#### 1. Jerárquicos\n",
    "- 1.1 Aglomerativo\n",
    "    - 1.1.1 Amalgamiento simple\n",
    "- 1.2 Disociativo\n",
    "\n",
    "#### 2. ___"
   ]
  },
  {
   "cell_type": "markdown",
   "metadata": {},
   "source": [
    "1. Algoritmos jerárquicos\n",
    "\n",
    "Realizan un agrupamiento \"histórico\" de los individuos en grupos que van aumentado o disminuyendo.\n",
    "\n",
    "* 1.1 Aglomerativo\n",
    "\n",
    "Se parte de una situación inicial en la que cada individuo representa un grupo y de forma iterativa se van conformando nuevos grupos con los individuos con mayor similitud hasta que en el paso final obtenemos una única agrupación.\n",
    "\n",
    "* 1.1.1 Amalgamiento simple\n",
    "\n",
    "\n",
    "* 1.2 Disociativo\n",
    "\n",
    "Partimos de un grupo que agrupos a todos los individuos y paso a paso se van separando los individuos con menor similitud en nuevos grupos.\n",
    "\n"
   ]
  },
  {
   "cell_type": "code",
   "execution_count": null,
   "metadata": {
    "collapsed": false
   },
   "outputs": [],
   "source": []
  }
 ],
 "metadata": {
  "kernelspec": {
   "display_name": "Python 2",
   "language": "python",
   "name": "python2"
  },
  "language_info": {
   "codemirror_mode": {
    "name": "ipython",
    "version": 2
   },
   "file_extension": ".py",
   "mimetype": "text/x-python",
   "name": "python",
   "nbconvert_exporter": "python",
   "pygments_lexer": "ipython2",
   "version": "2.7.12"
  }
 },
 "nbformat": 4,
 "nbformat_minor": 0
}
