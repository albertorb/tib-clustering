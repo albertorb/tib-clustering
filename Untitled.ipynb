{
 "cells": [
  {
   "cell_type": "markdown",
   "metadata": {},
   "source": [
    "# Smart Techniques in Bioinformatics"
   ]
  },
  {
   "cell_type": "markdown",
   "metadata": {},
   "source": [
    "Search for specialzed proteins with different behaviour on **adults** and **newborn** human brain tissues. \n",
    "\n",
    "First, we will find those proteins which are different from the others, that is, they perform some concrete task.\n",
    "Then, over that subset we can search for differents behaviours between adults and newborns."
   ]
  },
  {
   "cell_type": "markdown",
   "metadata": {},
   "source": [
    "### Load data"
   ]
  },
  {
   "cell_type": "code",
   "execution_count": 1,
   "metadata": {
    "collapsed": false
   },
   "outputs": [],
   "source": [
    "dts <- read.csv('hg19.cage_peak_phase1and2combined_tpm_ann_decoded.osc.txt.gz.extract.tsv',sep = '\\t' ,header=TRUE)"
   ]
  },
  {
   "cell_type": "code",
   "execution_count": 2,
   "metadata": {
    "collapsed": false
   },
   "outputs": [
    {
     "data": {
      "text/html": [
       "<table>\n",
       "<thead><tr><th scope=col>X00Annotation</th><th scope=col>short_description</th><th scope=col>uniprot_id</th><th scope=col>Astrocyte...cerebellum..donor1.CNhs11321.11500.119F6</th><th scope=col>Astrocyte...cerebral.cortex..donor1.CNhs10864.11235.116D2</th><th scope=col>brain..adult..donor1.CNhs11796.10084.102B3</th><th scope=col>brain..adult..pool1.CNhs10617.10012.101C3</th><th scope=col>brain..fetal..pool1.CNhs11797.10085.102B4</th><th scope=col>breast..adult..donor1.CNhs11792.10080.102A8</th><th scope=col>cerebellum...adult..donor10196.CNhs13799.10173.103C2</th><th scope=col>⋯</th><th scope=col>thalamus...adult..donor10196.CNhs13794.10168.103B6</th><th scope=col>thalamus..adult..donor10252.CNhs12314.10154.103A1</th><th scope=col>thalamus..adult..donor10258..tech_rep1.CNhs14223.10370.105G1</th><th scope=col>thalamus..adult..donor10258..tech_rep2.CNhs14551.10370.105G1</th><th scope=col>thalamus..newborn..donor10223.CNhs14084.10366.105F6</th><th scope=col>throat..fetal..donor1.CNhs11770.10061.101H7</th><th scope=col>thyroid..fetal..donor1.CNhs11769.10060.101H6</th><th scope=col>tongue.epidermis..fungiform.papillae...donor1.CNhs13460.10288.104F9</th><th scope=col>umbilical.cord..fetal..donor1.CNhs11765.10057.101H3</th><th scope=col>uterus..fetal..donor1.CNhs11763.10055.101H1</th></tr></thead>\n",
       "<tbody>\n",
       "\t<tr><td>chr10:100013403..100013414,-  </td><td>p@chr10:100013403..100013414,-</td><td>NA                            </td><td>0.00                          </td><td> 0.00                         </td><td>0                             </td><td>0                             </td><td>0                             </td><td>0.00                          </td><td>0                             </td><td>⋯                             </td><td>0.00                          </td><td>0.00                          </td><td>0.00                          </td><td>0.00                          </td><td>0                             </td><td>0.00                          </td><td>0.00                          </td><td>0.00                          </td><td>0.00                          </td><td>0.00                          </td></tr>\n",
       "\t<tr><td>chr10:100027943..100027958,-  </td><td>p1@LOXL4                      </td><td>uniprot:Q96JB6                </td><td>0.12                          </td><td>11.45                         </td><td>0                             </td><td>0                             </td><td>0                             </td><td>2.17                          </td><td>0                             </td><td>⋯                             </td><td>5.80                          </td><td>0.31                          </td><td>5.65                          </td><td>2.99                          </td><td>0                             </td><td>1.19                          </td><td>1.01                          </td><td>2.58                          </td><td>7.04                          </td><td>4.48                          </td></tr>\n",
       "\t<tr><td>chr10:100076685..100076699,+  </td><td>p@chr10:100076685..100076699,+</td><td>NA                            </td><td>0.00                          </td><td> 0.00                         </td><td>0                             </td><td>0                             </td><td>0                             </td><td>0.00                          </td><td>0                             </td><td>⋯                             </td><td>0.00                          </td><td>0.00                          </td><td>0.00                          </td><td>0.00                          </td><td>0                             </td><td>0.00                          </td><td>0.00                          </td><td>0.00                          </td><td>0.00                          </td><td>0.00                          </td></tr>\n",
       "\t<tr><td>chr10:100150910..100150935,-  </td><td>p@chr10:100150910..100150935,-</td><td>NA                            </td><td>0.00                          </td><td> 0.00                         </td><td>0                             </td><td>0                             </td><td>0                             </td><td>0.00                          </td><td>0                             </td><td>⋯                             </td><td>0.00                          </td><td>0.00                          </td><td>0.00                          </td><td>0.00                          </td><td>0                             </td><td>0.00                          </td><td>0.00                          </td><td>0.00                          </td><td>0.00                          </td><td>0.00                          </td></tr>\n",
       "\t<tr><td>chr10:100150951..100150962,-  </td><td>p@chr10:100150951..100150962,-</td><td>NA                            </td><td>0.00                          </td><td> 0.00                         </td><td>0                             </td><td>0                             </td><td>0                             </td><td>0.00                          </td><td>0                             </td><td>⋯                             </td><td>0.00                          </td><td>0.00                          </td><td>0.00                          </td><td>0.00                          </td><td>0                             </td><td>0.00                          </td><td>0.00                          </td><td>0.00                          </td><td>0.00                          </td><td>0.00                          </td></tr>\n",
       "\t<tr><td>chr10:100150986..100150988,+  </td><td>p@chr10:100150986..100150988,+</td><td>NA                            </td><td>0.00                          </td><td> 0.00                         </td><td>0                             </td><td>0                             </td><td>0                             </td><td>0.00                          </td><td>0                             </td><td>⋯                             </td><td>0.83                          </td><td>0.00                          </td><td>0.00                          </td><td>0.64                          </td><td>0                             </td><td>0.00                          </td><td>0.00                          </td><td>0.00                          </td><td>0.00                          </td><td>0.00                          </td></tr>\n",
       "</tbody>\n",
       "</table>\n"
      ],
      "text/latex": [
       "\\begin{tabular}{r|lllllllllllllllllllllllllllllllllllllllllllllllllllllllllllllllllllllllll}\n",
       " X00Annotation & short\\_description & uniprot\\_id & Astrocyte...cerebellum..donor1.CNhs11321.11500.119F6 & Astrocyte...cerebral.cortex..donor1.CNhs10864.11235.116D2 & brain..adult..donor1.CNhs11796.10084.102B3 & brain..adult..pool1.CNhs10617.10012.101C3 & brain..fetal..pool1.CNhs11797.10085.102B4 & breast..adult..donor1.CNhs11792.10080.102A8 & cerebellum...adult..donor10196.CNhs13799.10173.103C2 & ⋯ & thalamus...adult..donor10196.CNhs13794.10168.103B6 & thalamus..adult..donor10252.CNhs12314.10154.103A1 & thalamus..adult..donor10258..tech\\_rep1.CNhs14223.10370.105G1 & thalamus..adult..donor10258..tech\\_rep2.CNhs14551.10370.105G1 & thalamus..newborn..donor10223.CNhs14084.10366.105F6 & throat..fetal..donor1.CNhs11770.10061.101H7 & thyroid..fetal..donor1.CNhs11769.10060.101H6 & tongue.epidermis..fungiform.papillae...donor1.CNhs13460.10288.104F9 & umbilical.cord..fetal..donor1.CNhs11765.10057.101H3 & uterus..fetal..donor1.CNhs11763.10055.101H1\\\\\n",
       "\\hline\n",
       "\t chr10:100013403..100013414,-   & p@chr10:100013403..100013414,- & NA                             & 0.00                           &  0.00                          & 0                              & 0                              & 0                              & 0.00                           & 0                              & ⋯                              & 0.00                           & 0.00                           & 0.00                           & 0.00                           & 0                              & 0.00                           & 0.00                           & 0.00                           & 0.00                           & 0.00                          \\\\\n",
       "\t chr10:100027943..100027958,-   & p1@LOXL4                       & uniprot:Q96JB6                 & 0.12                           & 11.45                          & 0                              & 0                              & 0                              & 2.17                           & 0                              & ⋯                              & 5.80                           & 0.31                           & 5.65                           & 2.99                           & 0                              & 1.19                           & 1.01                           & 2.58                           & 7.04                           & 4.48                          \\\\\n",
       "\t chr10:100076685..100076699,+   & p@chr10:100076685..100076699,+ & NA                             & 0.00                           &  0.00                          & 0                              & 0                              & 0                              & 0.00                           & 0                              & ⋯                              & 0.00                           & 0.00                           & 0.00                           & 0.00                           & 0                              & 0.00                           & 0.00                           & 0.00                           & 0.00                           & 0.00                          \\\\\n",
       "\t chr10:100150910..100150935,-   & p@chr10:100150910..100150935,- & NA                             & 0.00                           &  0.00                          & 0                              & 0                              & 0                              & 0.00                           & 0                              & ⋯                              & 0.00                           & 0.00                           & 0.00                           & 0.00                           & 0                              & 0.00                           & 0.00                           & 0.00                           & 0.00                           & 0.00                          \\\\\n",
       "\t chr10:100150951..100150962,-   & p@chr10:100150951..100150962,- & NA                             & 0.00                           &  0.00                          & 0                              & 0                              & 0                              & 0.00                           & 0                              & ⋯                              & 0.00                           & 0.00                           & 0.00                           & 0.00                           & 0                              & 0.00                           & 0.00                           & 0.00                           & 0.00                           & 0.00                          \\\\\n",
       "\t chr10:100150986..100150988,+   & p@chr10:100150986..100150988,+ & NA                             & 0.00                           &  0.00                          & 0                              & 0                              & 0                              & 0.00                           & 0                              & ⋯                              & 0.83                           & 0.00                           & 0.00                           & 0.64                           & 0                              & 0.00                           & 0.00                           & 0.00                           & 0.00                           & 0.00                          \\\\\n",
       "\\end{tabular}\n"
      ],
      "text/plain": [
       "  X00Annotation                short_description              uniprot_id    \n",
       "1 chr10:100013403..100013414,- p@chr10:100013403..100013414,- NA            \n",
       "2 chr10:100027943..100027958,- p1@LOXL4                       uniprot:Q96JB6\n",
       "3 chr10:100076685..100076699,+ p@chr10:100076685..100076699,+ NA            \n",
       "4 chr10:100150910..100150935,- p@chr10:100150910..100150935,- NA            \n",
       "5 chr10:100150951..100150962,- p@chr10:100150951..100150962,- NA            \n",
       "6 chr10:100150986..100150988,+ p@chr10:100150986..100150988,+ NA            \n",
       "  Astrocyte...cerebellum..donor1.CNhs11321.11500.119F6\n",
       "1 0.00                                                \n",
       "2 0.12                                                \n",
       "3 0.00                                                \n",
       "4 0.00                                                \n",
       "5 0.00                                                \n",
       "6 0.00                                                \n",
       "  Astrocyte...cerebral.cortex..donor1.CNhs10864.11235.116D2\n",
       "1  0.00                                                    \n",
       "2 11.45                                                    \n",
       "3  0.00                                                    \n",
       "4  0.00                                                    \n",
       "5  0.00                                                    \n",
       "6  0.00                                                    \n",
       "  brain..adult..donor1.CNhs11796.10084.102B3\n",
       "1 0                                         \n",
       "2 0                                         \n",
       "3 0                                         \n",
       "4 0                                         \n",
       "5 0                                         \n",
       "6 0                                         \n",
       "  brain..adult..pool1.CNhs10617.10012.101C3\n",
       "1 0                                        \n",
       "2 0                                        \n",
       "3 0                                        \n",
       "4 0                                        \n",
       "5 0                                        \n",
       "6 0                                        \n",
       "  brain..fetal..pool1.CNhs11797.10085.102B4\n",
       "1 0                                        \n",
       "2 0                                        \n",
       "3 0                                        \n",
       "4 0                                        \n",
       "5 0                                        \n",
       "6 0                                        \n",
       "  breast..adult..donor1.CNhs11792.10080.102A8\n",
       "1 0.00                                       \n",
       "2 2.17                                       \n",
       "3 0.00                                       \n",
       "4 0.00                                       \n",
       "5 0.00                                       \n",
       "6 0.00                                       \n",
       "  cerebellum...adult..donor10196.CNhs13799.10173.103C2 ⋯\n",
       "1 0                                                    ⋯\n",
       "2 0                                                    ⋯\n",
       "3 0                                                    ⋯\n",
       "4 0                                                    ⋯\n",
       "5 0                                                    ⋯\n",
       "6 0                                                    ⋯\n",
       "  thalamus...adult..donor10196.CNhs13794.10168.103B6\n",
       "1 0.00                                              \n",
       "2 5.80                                              \n",
       "3 0.00                                              \n",
       "4 0.00                                              \n",
       "5 0.00                                              \n",
       "6 0.83                                              \n",
       "  thalamus..adult..donor10252.CNhs12314.10154.103A1\n",
       "1 0.00                                             \n",
       "2 0.31                                             \n",
       "3 0.00                                             \n",
       "4 0.00                                             \n",
       "5 0.00                                             \n",
       "6 0.00                                             \n",
       "  thalamus..adult..donor10258..tech_rep1.CNhs14223.10370.105G1\n",
       "1 0.00                                                        \n",
       "2 5.65                                                        \n",
       "3 0.00                                                        \n",
       "4 0.00                                                        \n",
       "5 0.00                                                        \n",
       "6 0.00                                                        \n",
       "  thalamus..adult..donor10258..tech_rep2.CNhs14551.10370.105G1\n",
       "1 0.00                                                        \n",
       "2 2.99                                                        \n",
       "3 0.00                                                        \n",
       "4 0.00                                                        \n",
       "5 0.00                                                        \n",
       "6 0.64                                                        \n",
       "  thalamus..newborn..donor10223.CNhs14084.10366.105F6\n",
       "1 0                                                  \n",
       "2 0                                                  \n",
       "3 0                                                  \n",
       "4 0                                                  \n",
       "5 0                                                  \n",
       "6 0                                                  \n",
       "  throat..fetal..donor1.CNhs11770.10061.101H7\n",
       "1 0.00                                       \n",
       "2 1.19                                       \n",
       "3 0.00                                       \n",
       "4 0.00                                       \n",
       "5 0.00                                       \n",
       "6 0.00                                       \n",
       "  thyroid..fetal..donor1.CNhs11769.10060.101H6\n",
       "1 0.00                                        \n",
       "2 1.01                                        \n",
       "3 0.00                                        \n",
       "4 0.00                                        \n",
       "5 0.00                                        \n",
       "6 0.00                                        \n",
       "  tongue.epidermis..fungiform.papillae...donor1.CNhs13460.10288.104F9\n",
       "1 0.00                                                               \n",
       "2 2.58                                                               \n",
       "3 0.00                                                               \n",
       "4 0.00                                                               \n",
       "5 0.00                                                               \n",
       "6 0.00                                                               \n",
       "  umbilical.cord..fetal..donor1.CNhs11765.10057.101H3\n",
       "1 0.00                                               \n",
       "2 7.04                                               \n",
       "3 0.00                                               \n",
       "4 0.00                                               \n",
       "5 0.00                                               \n",
       "6 0.00                                               \n",
       "  uterus..fetal..donor1.CNhs11763.10055.101H1\n",
       "1 0.00                                       \n",
       "2 4.48                                       \n",
       "3 0.00                                       \n",
       "4 0.00                                       \n",
       "5 0.00                                       \n",
       "6 0.00                                       "
      ]
     },
     "metadata": {},
     "output_type": "display_data"
    }
   ],
   "source": [
    "head(dts)"
   ]
  },
  {
   "cell_type": "markdown",
   "metadata": {},
   "source": [
    "### Cleaning data"
   ]
  },
  {
   "cell_type": "markdown",
   "metadata": {},
   "source": [
    "##### Removing columns that are not going to be used\n",
    "- X00Annotation\n",
    "- short_description"
   ]
  },
  {
   "cell_type": "code",
   "execution_count": 3,
   "metadata": {
    "collapsed": false
   },
   "outputs": [],
   "source": [
    "dts <- dts[,-1:-2]"
   ]
  },
  {
   "cell_type": "markdown",
   "metadata": {},
   "source": [
    "##### Filtering out rows with NA and \"\" at uniprot_id"
   ]
  },
  {
   "cell_type": "code",
   "execution_count": 4,
   "metadata": {
    "collapsed": false
   },
   "outputs": [],
   "source": [
    "dts <- na.omit(dts)\n",
    "dts <- subset(dts, uniprot_id!=\"\")"
   ]
  },
  {
   "cell_type": "code",
   "execution_count": 156,
   "metadata": {
    "collapsed": false
   },
   "outputs": [
    {
     "data": {
      "text/html": [
       "<table>\n",
       "<thead><tr><th></th><th scope=col>uniprot_id</th><th scope=col>Astrocyte...cerebellum..donor1.CNhs11321.11500.119F6</th><th scope=col>Astrocyte...cerebral.cortex..donor1.CNhs10864.11235.116D2</th><th scope=col>brain..adult..donor1.CNhs11796.10084.102B3</th><th scope=col>brain..adult..pool1.CNhs10617.10012.101C3</th><th scope=col>brain..fetal..pool1.CNhs11797.10085.102B4</th><th scope=col>breast..adult..donor1.CNhs11792.10080.102A8</th><th scope=col>cerebellum...adult..donor10196.CNhs13799.10173.103C2</th><th scope=col>cerebellum..adult..donor10252.CNhs12323.10166.103B4</th><th scope=col>cerebellum..newborn..donor10223.CNhs14075.10357.105E6</th><th scope=col>⋯</th><th scope=col>thalamus...adult..donor10196.CNhs13794.10168.103B6</th><th scope=col>thalamus..adult..donor10252.CNhs12314.10154.103A1</th><th scope=col>thalamus..adult..donor10258..tech_rep1.CNhs14223.10370.105G1</th><th scope=col>thalamus..adult..donor10258..tech_rep2.CNhs14551.10370.105G1</th><th scope=col>thalamus..newborn..donor10223.CNhs14084.10366.105F6</th><th scope=col>throat..fetal..donor1.CNhs11770.10061.101H7</th><th scope=col>thyroid..fetal..donor1.CNhs11769.10060.101H6</th><th scope=col>tongue.epidermis..fungiform.papillae...donor1.CNhs13460.10288.104F9</th><th scope=col>umbilical.cord..fetal..donor1.CNhs11765.10057.101H3</th><th scope=col>uterus..fetal..donor1.CNhs11763.10055.101H1</th></tr></thead>\n",
       "<tbody>\n",
       "\t<tr><th scope=row>2</th><td>uniprot:Q96JB6                              </td><td> 0.12                                       </td><td>11.45                                       </td><td> 0.00                                       </td><td> 0.00                                       </td><td> 0.00                                       </td><td> 2.17                                       </td><td> 0.00                                       </td><td> 0.22                                       </td><td> 1.03                                       </td><td>⋯                                           </td><td> 5.80                                       </td><td> 0.31                                       </td><td> 5.65                                       </td><td> 2.99                                       </td><td> 0.00                                       </td><td> 1.19                                       </td><td> 1.01                                       </td><td> 2.58                                       </td><td> 7.04                                       </td><td> 4.48                                       </td></tr>\n",
       "\t<tr><th scope=row>7</th><td>uniprot:Q8N2H3                              </td><td> 7.51                                       </td><td> 6.30                                       </td><td> 3.88                                       </td><td> 3.71                                       </td><td> 2.00                                       </td><td> 5.07                                       </td><td> 1.53                                       </td><td> 1.99                                       </td><td> 6.72                                       </td><td>⋯                                           </td><td> 4.15                                       </td><td> 7.34                                       </td><td> 4.23                                       </td><td> 3.84                                       </td><td> 4.28                                       </td><td>15.24                                       </td><td>11.92                                       </td><td> 7.74                                       </td><td> 7.04                                       </td><td>15.87                                       </td></tr>\n",
       "\t<tr><th scope=row>8</th><td>uniprot:Q8N2H3                              </td><td> 3.69                                       </td><td> 3.43                                       </td><td> 1.94                                       </td><td> 0.65                                       </td><td> 0.00                                       </td><td> 0.00                                       </td><td> 1.53                                       </td><td> 0.55                                       </td><td> 1.55                                       </td><td>⋯                                           </td><td> 0.83                                       </td><td> 2.69                                       </td><td> 2.82                                       </td><td> 1.92                                       </td><td> 0.00                                       </td><td> 3.33                                       </td><td> 3.03                                       </td><td> 2.58                                       </td><td> 2.35                                       </td><td> 5.29                                       </td></tr>\n",
       "\t<tr><th scope=row>15</th><td>uniprot:Q92902,uniprot:Q658M9,uniprot:Q8WXE5</td><td>35.58                                       </td><td>20.61                                       </td><td>30.05                                       </td><td>21.71                                       </td><td>19.96                                       </td><td>31.90                                       </td><td>13.73                                       </td><td>20.79                                       </td><td>21.72                                       </td><td>⋯                                           </td><td>15.75                                       </td><td>26.89                                       </td><td>24.00                                       </td><td>26.24                                       </td><td>12.83                                       </td><td>19.76                                       </td><td>22.03                                       </td><td>12.90                                       </td><td>32.85                                       </td><td>17.09                                       </td></tr>\n",
       "\t<tr><th scope=row>24</th><td>uniprot:Q8WWQ2                              </td><td> 0.00                                       </td><td> 0.00                                       </td><td> 0.00                                       </td><td> 1.02                                       </td><td> 0.00                                       </td><td> 0.00                                       </td><td> 0.00                                       </td><td> 2.99                                       </td><td> 0.00                                       </td><td>⋯                                           </td><td> 5.80                                       </td><td> 8.38                                       </td><td> 4.23                                       </td><td> 8.96                                       </td><td> 0.71                                       </td><td> 0.71                                       </td><td> 0.00                                       </td><td> 0.00                                       </td><td> 7.04                                       </td><td> 5.70                                       </td></tr>\n",
       "\t<tr><th scope=row>25</th><td>uniprot:Q8WWQ2                              </td><td> 0.00                                       </td><td> 0.00                                       </td><td> 0.00                                       </td><td> 0.00                                       </td><td> 0.00                                       </td><td> 0.00                                       </td><td> 0.00                                       </td><td> 0.00                                       </td><td> 0.00                                       </td><td>⋯                                           </td><td> 1.66                                       </td><td> 0.10                                       </td><td> 0.00                                       </td><td> 0.43                                       </td><td> 0.00                                       </td><td> 0.00                                       </td><td> 0.00                                       </td><td> 0.00                                       </td><td> 0.00                                       </td><td> 0.00                                       </td></tr>\n",
       "</tbody>\n",
       "</table>\n"
      ],
      "text/latex": [
       "\\begin{tabular}{r|lllllllllllllllllllllllllllllllllllllllllllllllllllllllllllllllllllllll}\n",
       "  & uniprot\\_id & Astrocyte...cerebellum..donor1.CNhs11321.11500.119F6 & Astrocyte...cerebral.cortex..donor1.CNhs10864.11235.116D2 & brain..adult..donor1.CNhs11796.10084.102B3 & brain..adult..pool1.CNhs10617.10012.101C3 & brain..fetal..pool1.CNhs11797.10085.102B4 & breast..adult..donor1.CNhs11792.10080.102A8 & cerebellum...adult..donor10196.CNhs13799.10173.103C2 & cerebellum..adult..donor10252.CNhs12323.10166.103B4 & cerebellum..newborn..donor10223.CNhs14075.10357.105E6 & ⋯ & thalamus...adult..donor10196.CNhs13794.10168.103B6 & thalamus..adult..donor10252.CNhs12314.10154.103A1 & thalamus..adult..donor10258..tech\\_rep1.CNhs14223.10370.105G1 & thalamus..adult..donor10258..tech\\_rep2.CNhs14551.10370.105G1 & thalamus..newborn..donor10223.CNhs14084.10366.105F6 & throat..fetal..donor1.CNhs11770.10061.101H7 & thyroid..fetal..donor1.CNhs11769.10060.101H6 & tongue.epidermis..fungiform.papillae...donor1.CNhs13460.10288.104F9 & umbilical.cord..fetal..donor1.CNhs11765.10057.101H3 & uterus..fetal..donor1.CNhs11763.10055.101H1\\\\\n",
       "\\hline\n",
       "\t2 & uniprot:Q96JB6                               &  0.12                                        & 11.45                                        &  0.00                                        &  0.00                                        &  0.00                                        &  2.17                                        &  0.00                                        &  0.22                                        &  1.03                                        & ⋯                                            &  5.80                                        &  0.31                                        &  5.65                                        &  2.99                                        &  0.00                                        &  1.19                                        &  1.01                                        &  2.58                                        &  7.04                                        &  4.48                                       \\\\\n",
       "\t7 & uniprot:Q8N2H3                               &  7.51                                        &  6.30                                        &  3.88                                        &  3.71                                        &  2.00                                        &  5.07                                        &  1.53                                        &  1.99                                        &  6.72                                        & ⋯                                            &  4.15                                        &  7.34                                        &  4.23                                        &  3.84                                        &  4.28                                        & 15.24                                        & 11.92                                        &  7.74                                        &  7.04                                        & 15.87                                       \\\\\n",
       "\t8 & uniprot:Q8N2H3                               &  3.69                                        &  3.43                                        &  1.94                                        &  0.65                                        &  0.00                                        &  0.00                                        &  1.53                                        &  0.55                                        &  1.55                                        & ⋯                                            &  0.83                                        &  2.69                                        &  2.82                                        &  1.92                                        &  0.00                                        &  3.33                                        &  3.03                                        &  2.58                                        &  2.35                                        &  5.29                                       \\\\\n",
       "\t15 & uniprot:Q92902,uniprot:Q658M9,uniprot:Q8WXE5 & 35.58                                        & 20.61                                        & 30.05                                        & 21.71                                        & 19.96                                        & 31.90                                        & 13.73                                        & 20.79                                        & 21.72                                        & ⋯                                            & 15.75                                        & 26.89                                        & 24.00                                        & 26.24                                        & 12.83                                        & 19.76                                        & 22.03                                        & 12.90                                        & 32.85                                        & 17.09                                       \\\\\n",
       "\t24 & uniprot:Q8WWQ2                               &  0.00                                        &  0.00                                        &  0.00                                        &  1.02                                        &  0.00                                        &  0.00                                        &  0.00                                        &  2.99                                        &  0.00                                        & ⋯                                            &  5.80                                        &  8.38                                        &  4.23                                        &  8.96                                        &  0.71                                        &  0.71                                        &  0.00                                        &  0.00                                        &  7.04                                        &  5.70                                       \\\\\n",
       "\t25 & uniprot:Q8WWQ2                               &  0.00                                        &  0.00                                        &  0.00                                        &  0.00                                        &  0.00                                        &  0.00                                        &  0.00                                        &  0.00                                        &  0.00                                        & ⋯                                            &  1.66                                        &  0.10                                        &  0.00                                        &  0.43                                        &  0.00                                        &  0.00                                        &  0.00                                        &  0.00                                        &  0.00                                        &  0.00                                       \\\\\n",
       "\\end{tabular}\n"
      ],
      "text/plain": [
       "   uniprot_id                                  \n",
       "2  uniprot:Q96JB6                              \n",
       "7  uniprot:Q8N2H3                              \n",
       "8  uniprot:Q8N2H3                              \n",
       "15 uniprot:Q92902,uniprot:Q658M9,uniprot:Q8WXE5\n",
       "24 uniprot:Q8WWQ2                              \n",
       "25 uniprot:Q8WWQ2                              \n",
       "   Astrocyte...cerebellum..donor1.CNhs11321.11500.119F6\n",
       "2   0.12                                               \n",
       "7   7.51                                               \n",
       "8   3.69                                               \n",
       "15 35.58                                               \n",
       "24  0.00                                               \n",
       "25  0.00                                               \n",
       "   Astrocyte...cerebral.cortex..donor1.CNhs10864.11235.116D2\n",
       "2  11.45                                                    \n",
       "7   6.30                                                    \n",
       "8   3.43                                                    \n",
       "15 20.61                                                    \n",
       "24  0.00                                                    \n",
       "25  0.00                                                    \n",
       "   brain..adult..donor1.CNhs11796.10084.102B3\n",
       "2   0.00                                     \n",
       "7   3.88                                     \n",
       "8   1.94                                     \n",
       "15 30.05                                     \n",
       "24  0.00                                     \n",
       "25  0.00                                     \n",
       "   brain..adult..pool1.CNhs10617.10012.101C3\n",
       "2   0.00                                    \n",
       "7   3.71                                    \n",
       "8   0.65                                    \n",
       "15 21.71                                    \n",
       "24  1.02                                    \n",
       "25  0.00                                    \n",
       "   brain..fetal..pool1.CNhs11797.10085.102B4\n",
       "2   0.00                                    \n",
       "7   2.00                                    \n",
       "8   0.00                                    \n",
       "15 19.96                                    \n",
       "24  0.00                                    \n",
       "25  0.00                                    \n",
       "   breast..adult..donor1.CNhs11792.10080.102A8\n",
       "2   2.17                                      \n",
       "7   5.07                                      \n",
       "8   0.00                                      \n",
       "15 31.90                                      \n",
       "24  0.00                                      \n",
       "25  0.00                                      \n",
       "   cerebellum...adult..donor10196.CNhs13799.10173.103C2\n",
       "2   0.00                                               \n",
       "7   1.53                                               \n",
       "8   1.53                                               \n",
       "15 13.73                                               \n",
       "24  0.00                                               \n",
       "25  0.00                                               \n",
       "   cerebellum..adult..donor10252.CNhs12323.10166.103B4\n",
       "2   0.22                                              \n",
       "7   1.99                                              \n",
       "8   0.55                                              \n",
       "15 20.79                                              \n",
       "24  2.99                                              \n",
       "25  0.00                                              \n",
       "   cerebellum..newborn..donor10223.CNhs14075.10357.105E6 ⋯\n",
       "2   1.03                                                 ⋯\n",
       "7   6.72                                                 ⋯\n",
       "8   1.55                                                 ⋯\n",
       "15 21.72                                                 ⋯\n",
       "24  0.00                                                 ⋯\n",
       "25  0.00                                                 ⋯\n",
       "   thalamus...adult..donor10196.CNhs13794.10168.103B6\n",
       "2   5.80                                             \n",
       "7   4.15                                             \n",
       "8   0.83                                             \n",
       "15 15.75                                             \n",
       "24  5.80                                             \n",
       "25  1.66                                             \n",
       "   thalamus..adult..donor10252.CNhs12314.10154.103A1\n",
       "2   0.31                                            \n",
       "7   7.34                                            \n",
       "8   2.69                                            \n",
       "15 26.89                                            \n",
       "24  8.38                                            \n",
       "25  0.10                                            \n",
       "   thalamus..adult..donor10258..tech_rep1.CNhs14223.10370.105G1\n",
       "2   5.65                                                       \n",
       "7   4.23                                                       \n",
       "8   2.82                                                       \n",
       "15 24.00                                                       \n",
       "24  4.23                                                       \n",
       "25  0.00                                                       \n",
       "   thalamus..adult..donor10258..tech_rep2.CNhs14551.10370.105G1\n",
       "2   2.99                                                       \n",
       "7   3.84                                                       \n",
       "8   1.92                                                       \n",
       "15 26.24                                                       \n",
       "24  8.96                                                       \n",
       "25  0.43                                                       \n",
       "   thalamus..newborn..donor10223.CNhs14084.10366.105F6\n",
       "2   0.00                                              \n",
       "7   4.28                                              \n",
       "8   0.00                                              \n",
       "15 12.83                                              \n",
       "24  0.71                                              \n",
       "25  0.00                                              \n",
       "   throat..fetal..donor1.CNhs11770.10061.101H7\n",
       "2   1.19                                      \n",
       "7  15.24                                      \n",
       "8   3.33                                      \n",
       "15 19.76                                      \n",
       "24  0.71                                      \n",
       "25  0.00                                      \n",
       "   thyroid..fetal..donor1.CNhs11769.10060.101H6\n",
       "2   1.01                                       \n",
       "7  11.92                                       \n",
       "8   3.03                                       \n",
       "15 22.03                                       \n",
       "24  0.00                                       \n",
       "25  0.00                                       \n",
       "   tongue.epidermis..fungiform.papillae...donor1.CNhs13460.10288.104F9\n",
       "2   2.58                                                              \n",
       "7   7.74                                                              \n",
       "8   2.58                                                              \n",
       "15 12.90                                                              \n",
       "24  0.00                                                              \n",
       "25  0.00                                                              \n",
       "   umbilical.cord..fetal..donor1.CNhs11765.10057.101H3\n",
       "2   7.04                                              \n",
       "7   7.04                                              \n",
       "8   2.35                                              \n",
       "15 32.85                                              \n",
       "24  7.04                                              \n",
       "25  0.00                                              \n",
       "   uterus..fetal..donor1.CNhs11763.10055.101H1\n",
       "2   4.48                                      \n",
       "7  15.87                                      \n",
       "8   5.29                                      \n",
       "15 17.09                                      \n",
       "24  5.70                                      \n",
       "25  0.00                                      "
      ]
     },
     "metadata": {},
     "output_type": "display_data"
    }
   ],
   "source": [
    "small_dts <- dts[1:5000,]\n",
    "head(small_dts)"
   ]
  },
  {
   "cell_type": "markdown",
   "metadata": {},
   "source": [
    "##### Group repeated experiments of the same protein"
   ]
  },
  {
   "cell_type": "code",
   "execution_count": 157,
   "metadata": {
    "collapsed": false
   },
   "outputs": [],
   "source": [
    "library(plyr)\n",
    "small_dts <- ddply(small_dts, 'uniprot_id', numcolwise(sum))"
   ]
  },
  {
   "cell_type": "markdown",
   "metadata": {},
   "source": [
    "Now we can set proteins columns as index of the dataframe"
   ]
  },
  {
   "cell_type": "code",
   "execution_count": 158,
   "metadata": {
    "collapsed": false
   },
   "outputs": [
    {
     "data": {
      "text/html": [
       "<table>\n",
       "<thead><tr><th></th><th scope=col>Astrocyte...cerebellum..donor1.CNhs11321.11500.119F6</th><th scope=col>Astrocyte...cerebral.cortex..donor1.CNhs10864.11235.116D2</th><th scope=col>brain..adult..donor1.CNhs11796.10084.102B3</th><th scope=col>brain..adult..pool1.CNhs10617.10012.101C3</th><th scope=col>brain..fetal..pool1.CNhs11797.10085.102B4</th><th scope=col>breast..adult..donor1.CNhs11792.10080.102A8</th><th scope=col>cerebellum...adult..donor10196.CNhs13799.10173.103C2</th><th scope=col>cerebellum..adult..donor10252.CNhs12323.10166.103B4</th><th scope=col>cerebellum..newborn..donor10223.CNhs14075.10357.105E6</th><th scope=col>dura.mater..adult..donor1.CNhs10648.10041.101F5</th><th scope=col>⋯</th><th scope=col>thalamus...adult..donor10196.CNhs13794.10168.103B6</th><th scope=col>thalamus..adult..donor10252.CNhs12314.10154.103A1</th><th scope=col>thalamus..adult..donor10258..tech_rep1.CNhs14223.10370.105G1</th><th scope=col>thalamus..adult..donor10258..tech_rep2.CNhs14551.10370.105G1</th><th scope=col>thalamus..newborn..donor10223.CNhs14084.10366.105F6</th><th scope=col>throat..fetal..donor1.CNhs11770.10061.101H7</th><th scope=col>thyroid..fetal..donor1.CNhs11769.10060.101H6</th><th scope=col>tongue.epidermis..fungiform.papillae...donor1.CNhs13460.10288.104F9</th><th scope=col>umbilical.cord..fetal..donor1.CNhs11765.10057.101H3</th><th scope=col>uterus..fetal..donor1.CNhs11763.10055.101H1</th></tr></thead>\n",
       "<tbody>\n",
       "\t<tr><th scope=row>uniprot:Q9Y6F6</th><td> 0.12 </td><td> 0.29 </td><td>24.24 </td><td>20.68 </td><td> 2.00 </td><td> 0.72 </td><td> 6.11 </td><td>12.93 </td><td> 6.72 </td><td> 6.76 </td><td>⋯     </td><td>38.98 </td><td>23.17 </td><td> 31.05</td><td>38.61 </td><td>10.68 </td><td> 0.24 </td><td> 0.81 </td><td> 0.00 </td><td>14.08 </td><td> 9.76 </td></tr>\n",
       "\t<tr><th scope=row>uniprot:Q9Y6G2</th><td>17.48 </td><td>17.75 </td><td>51.37 </td><td>52.60 </td><td>31.94 </td><td>26.10 </td><td>39.67 </td><td>21.01 </td><td>30.00 </td><td>12.26 </td><td>⋯     </td><td>33.17 </td><td>24.93 </td><td>110.11</td><td>51.63 </td><td>44.18 </td><td>17.38 </td><td>27.29 </td><td>10.32 </td><td>18.77 </td><td>21.16 </td></tr>\n",
       "\t<tr><th scope=row>uniprot:Q9Y6L7</th><td> 1.35 </td><td> 0.29 </td><td> 0.97 </td><td> 1.30 </td><td> 2.00 </td><td> 0.72 </td><td> 0.00 </td><td> 0.44 </td><td> 2.59 </td><td> 0.19 </td><td>⋯     </td><td> 1.66 </td><td> 4.65 </td><td>  0.00</td><td> 1.92 </td><td> 1.42 </td><td> 2.62 </td><td> 1.41 </td><td> 0.00 </td><td> 0.00 </td><td> 1.63 </td></tr>\n",
       "\t<tr><th scope=row>uniprot:Q9Y6N9,uniprot:Q7RTU8</th><td> 0.00 </td><td> 0.00 </td><td> 1.94 </td><td> 1.30 </td><td> 0.00 </td><td> 0.00 </td><td> 0.00 </td><td> 0.66 </td><td> 0.00 </td><td> 3.79 </td><td>⋯     </td><td> 2.49 </td><td> 1.97 </td><td>  1.41</td><td> 0.85 </td><td> 0.00 </td><td> 0.00 </td><td> 0.00 </td><td> 0.00 </td><td> 0.00 </td><td> 0.00 </td></tr>\n",
       "\t<tr><th scope=row>uniprot:Q9Y6Y8</th><td> 0.37 </td><td> 0.29 </td><td> 0.00 </td><td> 1.20 </td><td> 0.00 </td><td> 0.00 </td><td> 0.00 </td><td> 0.66 </td><td> 0.52 </td><td> 0.96 </td><td>⋯     </td><td> 0.83 </td><td> 0.82 </td><td>  2.82</td><td> 1.28 </td><td> 2.14 </td><td> 1.91 </td><td> 1.82 </td><td> 0.00 </td><td> 2.35 </td><td> 0.82 </td></tr>\n",
       "\t<tr><th scope=row>uniprot:Q9Y6Y8,uniprot:F5H0L8</th><td>29.55 </td><td>34.63 </td><td>35.87 </td><td>26.53 </td><td>31.94 </td><td>42.77 </td><td>64.08 </td><td>34.17 </td><td>42.93 </td><td>43.73 </td><td>⋯     </td><td>53.07 </td><td>24.72 </td><td> 31.06</td><td>41.81 </td><td>43.47 </td><td>51.66 </td><td>62.45 </td><td>51.60 </td><td>44.58 </td><td>39.06 </td></tr>\n",
       "</tbody>\n",
       "</table>\n"
      ],
      "text/latex": [
       "\\begin{tabular}{r|llllllllllllllllllllllllllllllllllllllllllllllllllllllllllllllllllllll}\n",
       "  & Astrocyte...cerebellum..donor1.CNhs11321.11500.119F6 & Astrocyte...cerebral.cortex..donor1.CNhs10864.11235.116D2 & brain..adult..donor1.CNhs11796.10084.102B3 & brain..adult..pool1.CNhs10617.10012.101C3 & brain..fetal..pool1.CNhs11797.10085.102B4 & breast..adult..donor1.CNhs11792.10080.102A8 & cerebellum...adult..donor10196.CNhs13799.10173.103C2 & cerebellum..adult..donor10252.CNhs12323.10166.103B4 & cerebellum..newborn..donor10223.CNhs14075.10357.105E6 & dura.mater..adult..donor1.CNhs10648.10041.101F5 & ⋯ & thalamus...adult..donor10196.CNhs13794.10168.103B6 & thalamus..adult..donor10252.CNhs12314.10154.103A1 & thalamus..adult..donor10258..tech\\_rep1.CNhs14223.10370.105G1 & thalamus..adult..donor10258..tech\\_rep2.CNhs14551.10370.105G1 & thalamus..newborn..donor10223.CNhs14084.10366.105F6 & throat..fetal..donor1.CNhs11770.10061.101H7 & thyroid..fetal..donor1.CNhs11769.10060.101H6 & tongue.epidermis..fungiform.papillae...donor1.CNhs13460.10288.104F9 & umbilical.cord..fetal..donor1.CNhs11765.10057.101H3 & uterus..fetal..donor1.CNhs11763.10055.101H1\\\\\n",
       "\\hline\n",
       "\tuniprot:Q9Y6F6 &  0.12  &  0.29  & 24.24  & 20.68  &  2.00  &  0.72  &  6.11  & 12.93  &  6.72  &  6.76  & ⋯      & 38.98  & 23.17  &  31.05 & 38.61  & 10.68  &  0.24  &  0.81  &  0.00  & 14.08  &  9.76 \\\\\n",
       "\tuniprot:Q9Y6G2 & 17.48  & 17.75  & 51.37  & 52.60  & 31.94  & 26.10  & 39.67  & 21.01  & 30.00  & 12.26  & ⋯      & 33.17  & 24.93  & 110.11 & 51.63  & 44.18  & 17.38  & 27.29  & 10.32  & 18.77  & 21.16 \\\\\n",
       "\tuniprot:Q9Y6L7 &  1.35  &  0.29  &  0.97  &  1.30  &  2.00  &  0.72  &  0.00  &  0.44  &  2.59  &  0.19  & ⋯      &  1.66  &  4.65  &   0.00 &  1.92  &  1.42  &  2.62  &  1.41  &  0.00  &  0.00  &  1.63 \\\\\n",
       "\tuniprot:Q9Y6N9,uniprot:Q7RTU8 &  0.00  &  0.00  &  1.94  &  1.30  &  0.00  &  0.00  &  0.00  &  0.66  &  0.00  &  3.79  & ⋯      &  2.49  &  1.97  &   1.41 &  0.85  &  0.00  &  0.00  &  0.00  &  0.00  &  0.00  &  0.00 \\\\\n",
       "\tuniprot:Q9Y6Y8 &  0.37  &  0.29  &  0.00  &  1.20  &  0.00  &  0.00  &  0.00  &  0.66  &  0.52  &  0.96  & ⋯      &  0.83  &  0.82  &   2.82 &  1.28  &  2.14  &  1.91  &  1.82  &  0.00  &  2.35  &  0.82 \\\\\n",
       "\tuniprot:Q9Y6Y8,uniprot:F5H0L8 & 29.55  & 34.63  & 35.87  & 26.53  & 31.94  & 42.77  & 64.08  & 34.17  & 42.93  & 43.73  & ⋯      & 53.07  & 24.72  &  31.06 & 41.81  & 43.47  & 51.66  & 62.45  & 51.60  & 44.58  & 39.06 \\\\\n",
       "\\end{tabular}\n"
      ],
      "text/plain": [
       "                              Astrocyte...cerebellum..donor1.CNhs11321.11500.119F6\n",
       "uniprot:Q9Y6F6                 0.12                                               \n",
       "uniprot:Q9Y6G2                17.48                                               \n",
       "uniprot:Q9Y6L7                 1.35                                               \n",
       "uniprot:Q9Y6N9,uniprot:Q7RTU8  0.00                                               \n",
       "uniprot:Q9Y6Y8                 0.37                                               \n",
       "uniprot:Q9Y6Y8,uniprot:F5H0L8 29.55                                               \n",
       "                              Astrocyte...cerebral.cortex..donor1.CNhs10864.11235.116D2\n",
       "uniprot:Q9Y6F6                 0.29                                                    \n",
       "uniprot:Q9Y6G2                17.75                                                    \n",
       "uniprot:Q9Y6L7                 0.29                                                    \n",
       "uniprot:Q9Y6N9,uniprot:Q7RTU8  0.00                                                    \n",
       "uniprot:Q9Y6Y8                 0.29                                                    \n",
       "uniprot:Q9Y6Y8,uniprot:F5H0L8 34.63                                                    \n",
       "                              brain..adult..donor1.CNhs11796.10084.102B3\n",
       "uniprot:Q9Y6F6                24.24                                     \n",
       "uniprot:Q9Y6G2                51.37                                     \n",
       "uniprot:Q9Y6L7                 0.97                                     \n",
       "uniprot:Q9Y6N9,uniprot:Q7RTU8  1.94                                     \n",
       "uniprot:Q9Y6Y8                 0.00                                     \n",
       "uniprot:Q9Y6Y8,uniprot:F5H0L8 35.87                                     \n",
       "                              brain..adult..pool1.CNhs10617.10012.101C3\n",
       "uniprot:Q9Y6F6                20.68                                    \n",
       "uniprot:Q9Y6G2                52.60                                    \n",
       "uniprot:Q9Y6L7                 1.30                                    \n",
       "uniprot:Q9Y6N9,uniprot:Q7RTU8  1.30                                    \n",
       "uniprot:Q9Y6Y8                 1.20                                    \n",
       "uniprot:Q9Y6Y8,uniprot:F5H0L8 26.53                                    \n",
       "                              brain..fetal..pool1.CNhs11797.10085.102B4\n",
       "uniprot:Q9Y6F6                 2.00                                    \n",
       "uniprot:Q9Y6G2                31.94                                    \n",
       "uniprot:Q9Y6L7                 2.00                                    \n",
       "uniprot:Q9Y6N9,uniprot:Q7RTU8  0.00                                    \n",
       "uniprot:Q9Y6Y8                 0.00                                    \n",
       "uniprot:Q9Y6Y8,uniprot:F5H0L8 31.94                                    \n",
       "                              breast..adult..donor1.CNhs11792.10080.102A8\n",
       "uniprot:Q9Y6F6                 0.72                                      \n",
       "uniprot:Q9Y6G2                26.10                                      \n",
       "uniprot:Q9Y6L7                 0.72                                      \n",
       "uniprot:Q9Y6N9,uniprot:Q7RTU8  0.00                                      \n",
       "uniprot:Q9Y6Y8                 0.00                                      \n",
       "uniprot:Q9Y6Y8,uniprot:F5H0L8 42.77                                      \n",
       "                              cerebellum...adult..donor10196.CNhs13799.10173.103C2\n",
       "uniprot:Q9Y6F6                 6.11                                               \n",
       "uniprot:Q9Y6G2                39.67                                               \n",
       "uniprot:Q9Y6L7                 0.00                                               \n",
       "uniprot:Q9Y6N9,uniprot:Q7RTU8  0.00                                               \n",
       "uniprot:Q9Y6Y8                 0.00                                               \n",
       "uniprot:Q9Y6Y8,uniprot:F5H0L8 64.08                                               \n",
       "                              cerebellum..adult..donor10252.CNhs12323.10166.103B4\n",
       "uniprot:Q9Y6F6                12.93                                              \n",
       "uniprot:Q9Y6G2                21.01                                              \n",
       "uniprot:Q9Y6L7                 0.44                                              \n",
       "uniprot:Q9Y6N9,uniprot:Q7RTU8  0.66                                              \n",
       "uniprot:Q9Y6Y8                 0.66                                              \n",
       "uniprot:Q9Y6Y8,uniprot:F5H0L8 34.17                                              \n",
       "                              cerebellum..newborn..donor10223.CNhs14075.10357.105E6\n",
       "uniprot:Q9Y6F6                 6.72                                                \n",
       "uniprot:Q9Y6G2                30.00                                                \n",
       "uniprot:Q9Y6L7                 2.59                                                \n",
       "uniprot:Q9Y6N9,uniprot:Q7RTU8  0.00                                                \n",
       "uniprot:Q9Y6Y8                 0.52                                                \n",
       "uniprot:Q9Y6Y8,uniprot:F5H0L8 42.93                                                \n",
       "                              dura.mater..adult..donor1.CNhs10648.10041.101F5 ⋯\n",
       "uniprot:Q9Y6F6                 6.76                                           ⋯\n",
       "uniprot:Q9Y6G2                12.26                                           ⋯\n",
       "uniprot:Q9Y6L7                 0.19                                           ⋯\n",
       "uniprot:Q9Y6N9,uniprot:Q7RTU8  3.79                                           ⋯\n",
       "uniprot:Q9Y6Y8                 0.96                                           ⋯\n",
       "uniprot:Q9Y6Y8,uniprot:F5H0L8 43.73                                           ⋯\n",
       "                              thalamus...adult..donor10196.CNhs13794.10168.103B6\n",
       "uniprot:Q9Y6F6                38.98                                             \n",
       "uniprot:Q9Y6G2                33.17                                             \n",
       "uniprot:Q9Y6L7                 1.66                                             \n",
       "uniprot:Q9Y6N9,uniprot:Q7RTU8  2.49                                             \n",
       "uniprot:Q9Y6Y8                 0.83                                             \n",
       "uniprot:Q9Y6Y8,uniprot:F5H0L8 53.07                                             \n",
       "                              thalamus..adult..donor10252.CNhs12314.10154.103A1\n",
       "uniprot:Q9Y6F6                23.17                                            \n",
       "uniprot:Q9Y6G2                24.93                                            \n",
       "uniprot:Q9Y6L7                 4.65                                            \n",
       "uniprot:Q9Y6N9,uniprot:Q7RTU8  1.97                                            \n",
       "uniprot:Q9Y6Y8                 0.82                                            \n",
       "uniprot:Q9Y6Y8,uniprot:F5H0L8 24.72                                            \n",
       "                              thalamus..adult..donor10258..tech_rep1.CNhs14223.10370.105G1\n",
       "uniprot:Q9Y6F6                 31.05                                                      \n",
       "uniprot:Q9Y6G2                110.11                                                      \n",
       "uniprot:Q9Y6L7                  0.00                                                      \n",
       "uniprot:Q9Y6N9,uniprot:Q7RTU8   1.41                                                      \n",
       "uniprot:Q9Y6Y8                  2.82                                                      \n",
       "uniprot:Q9Y6Y8,uniprot:F5H0L8  31.06                                                      \n",
       "                              thalamus..adult..donor10258..tech_rep2.CNhs14551.10370.105G1\n",
       "uniprot:Q9Y6F6                38.61                                                       \n",
       "uniprot:Q9Y6G2                51.63                                                       \n",
       "uniprot:Q9Y6L7                 1.92                                                       \n",
       "uniprot:Q9Y6N9,uniprot:Q7RTU8  0.85                                                       \n",
       "uniprot:Q9Y6Y8                 1.28                                                       \n",
       "uniprot:Q9Y6Y8,uniprot:F5H0L8 41.81                                                       \n",
       "                              thalamus..newborn..donor10223.CNhs14084.10366.105F6\n",
       "uniprot:Q9Y6F6                10.68                                              \n",
       "uniprot:Q9Y6G2                44.18                                              \n",
       "uniprot:Q9Y6L7                 1.42                                              \n",
       "uniprot:Q9Y6N9,uniprot:Q7RTU8  0.00                                              \n",
       "uniprot:Q9Y6Y8                 2.14                                              \n",
       "uniprot:Q9Y6Y8,uniprot:F5H0L8 43.47                                              \n",
       "                              throat..fetal..donor1.CNhs11770.10061.101H7\n",
       "uniprot:Q9Y6F6                 0.24                                      \n",
       "uniprot:Q9Y6G2                17.38                                      \n",
       "uniprot:Q9Y6L7                 2.62                                      \n",
       "uniprot:Q9Y6N9,uniprot:Q7RTU8  0.00                                      \n",
       "uniprot:Q9Y6Y8                 1.91                                      \n",
       "uniprot:Q9Y6Y8,uniprot:F5H0L8 51.66                                      \n",
       "                              thyroid..fetal..donor1.CNhs11769.10060.101H6\n",
       "uniprot:Q9Y6F6                 0.81                                       \n",
       "uniprot:Q9Y6G2                27.29                                       \n",
       "uniprot:Q9Y6L7                 1.41                                       \n",
       "uniprot:Q9Y6N9,uniprot:Q7RTU8  0.00                                       \n",
       "uniprot:Q9Y6Y8                 1.82                                       \n",
       "uniprot:Q9Y6Y8,uniprot:F5H0L8 62.45                                       \n",
       "                              tongue.epidermis..fungiform.papillae...donor1.CNhs13460.10288.104F9\n",
       "uniprot:Q9Y6F6                 0.00                                                              \n",
       "uniprot:Q9Y6G2                10.32                                                              \n",
       "uniprot:Q9Y6L7                 0.00                                                              \n",
       "uniprot:Q9Y6N9,uniprot:Q7RTU8  0.00                                                              \n",
       "uniprot:Q9Y6Y8                 0.00                                                              \n",
       "uniprot:Q9Y6Y8,uniprot:F5H0L8 51.60                                                              \n",
       "                              umbilical.cord..fetal..donor1.CNhs11765.10057.101H3\n",
       "uniprot:Q9Y6F6                14.08                                              \n",
       "uniprot:Q9Y6G2                18.77                                              \n",
       "uniprot:Q9Y6L7                 0.00                                              \n",
       "uniprot:Q9Y6N9,uniprot:Q7RTU8  0.00                                              \n",
       "uniprot:Q9Y6Y8                 2.35                                              \n",
       "uniprot:Q9Y6Y8,uniprot:F5H0L8 44.58                                              \n",
       "                              uterus..fetal..donor1.CNhs11763.10055.101H1\n",
       "uniprot:Q9Y6F6                 9.76                                      \n",
       "uniprot:Q9Y6G2                21.16                                      \n",
       "uniprot:Q9Y6L7                 1.63                                      \n",
       "uniprot:Q9Y6N9,uniprot:Q7RTU8  0.00                                      \n",
       "uniprot:Q9Y6Y8                 0.82                                      \n",
       "uniprot:Q9Y6Y8,uniprot:F5H0L8 39.06                                      "
      ]
     },
     "metadata": {},
     "output_type": "display_data"
    }
   ],
   "source": [
    "rownames(small_dts) <- small_dts$uniprot_id\n",
    "small_dts <- small_dts[,-1]\n",
    "tail(small_dts)"
   ]
  },
  {
   "cell_type": "code",
   "execution_count": 105,
   "metadata": {
    "collapsed": false
   },
   "outputs": [
    {
     "data": {
      "text/html": [
       "6"
      ],
      "text/latex": [
       "6"
      ],
      "text/markdown": [
       "6"
      ],
      "text/plain": [
       "[1] 6"
      ]
     },
     "metadata": {},
     "output_type": "display_data"
    }
   ],
   "source": []
  },
  {
   "cell_type": "markdown",
   "metadata": {},
   "source": [
    "##### K-means clustering"
   ]
  },
  {
   "cell_type": "code",
   "execution_count": 159,
   "metadata": {
    "collapsed": false
   },
   "outputs": [],
   "source": [
    "require(graphics)\n",
    "mink_dist <- dist(small_dts, method='minkowski') # p,q >= 1\n",
    "nhc_kmeans <- kmeans(mink_dist,10)\n"
   ]
  },
  {
   "cell_type": "code",
   "execution_count": 160,
   "metadata": {
    "collapsed": false
   },
   "outputs": [
    {
     "data": {
      "image/png": "[encoded data removed]",
      "text/plain": [
       "Plot with title “Histogram of htmap”"
      ]
     },
     "metadata": {},
     "output_type": "display_data"
    }
   ],
   "source": [
    "htmap <- as.matrix(nhc_kmeans$cluster)\n",
    "hist(htmap, col=c('Blue','Yellow', 'Red'))"
   ]
  },
  {
   "cell_type": "markdown",
   "metadata": {},
   "source": [
    "With the histogram, we can visualize which cluster has less population than the others, and therefore they might are performing some concrete task."
   ]
  },
  {
   "cell_type": "markdown",
   "metadata": {},
   "source": [
    "##### Filter specialized proteins"
   ]
  },
  {
   "cell_type": "code",
   "execution_count": 161,
   "metadata": {
    "collapsed": false
   },
   "outputs": [],
   "source": [
    "final <- as.data.frame(nhc_kmeans$cluster)\n",
    "colnames(final) <- c(\"cluster\")\n",
    "c7 <- subset(final, cluster==7)\n",
    "sp_dts <- small_dts[rownames(c7),]\n"
   ]
  },
  {
   "cell_type": "code",
   "execution_count": 162,
   "metadata": {
    "collapsed": false
   },
   "outputs": [
    {
     "data": {
      "text/html": [
       "<table>\n",
       "<thead><tr><th></th><th scope=col>uniprot:E9PI65,uniprot:E9PSH5,uniprot:E9PNE6</th><th scope=col>uniprot:E9PPT4,uniprot:P62851</th><th scope=col>uniprot:F5H0X6,uniprot:P07602</th><th scope=col>uniprot:F5H1P4</th><th scope=col>uniprot:P01344</th><th scope=col>uniprot:P48788</th><th scope=col>tissues</th></tr></thead>\n",
       "<tbody>\n",
       "\t<tr><th scope=row>heart..adult..diseased.post.infarction..donor1.CNhs11757.10050.101G5</th><td>454.47                                                              </td><td>1003.19                                                             </td><td>910.34                                                              </td><td>0                                                                   </td><td>227.46                                                              </td><td>22.56                                                               </td><td>heart..adult..diseased.post.infarction..donor1.CNhs11757.10050.101G5</td></tr>\n",
       "</tbody>\n",
       "</table>\n"
      ],
      "text/latex": [
       "\\begin{tabular}{r|lllllll}\n",
       "  & uniprot:E9PI65,uniprot:E9PSH5,uniprot:E9PNE6 & uniprot:E9PPT4,uniprot:P62851 & uniprot:F5H0X6,uniprot:P07602 & uniprot:F5H1P4 & uniprot:P01344 & uniprot:P48788 & tissues\\\\\n",
       "\\hline\n",
       "\theart..adult..diseased.post.infarction..donor1.CNhs11757.10050.101G5 & 454.47                                                               & 1003.19                                                              & 910.34                                                               & 0                                                                    & 227.46                                                               & 22.56                                                                & heart..adult..diseased.post.infarction..donor1.CNhs11757.10050.101G5\\\\\n",
       "\\end{tabular}\n"
      ],
      "text/markdown": [
       "1. '454.47'\n",
       "2. '1003.19'\n",
       "3. '910.34'\n",
       "4. '0'\n",
       "5. '227.46'\n",
       "6. '22.56'\n",
       "7. 'heart..adult..diseased.post.infarction..donor1.CNhs11757.10050.101G5'\n",
       "\n",
       "\n"
      ],
      "text/plain": [
       "                                                                     uniprot:E9PI65,uniprot:E9PSH5,uniprot:E9PNE6\n",
       "heart..adult..diseased.post.infarction..donor1.CNhs11757.10050.101G5 454.47                                      \n",
       "                                                                     uniprot:E9PPT4,uniprot:P62851\n",
       "heart..adult..diseased.post.infarction..donor1.CNhs11757.10050.101G5 1003.19                      \n",
       "                                                                     uniprot:F5H0X6,uniprot:P07602\n",
       "heart..adult..diseased.post.infarction..donor1.CNhs11757.10050.101G5 910.34                       \n",
       "                                                                     uniprot:F5H1P4\n",
       "heart..adult..diseased.post.infarction..donor1.CNhs11757.10050.101G5 0             \n",
       "                                                                     uniprot:P01344\n",
       "heart..adult..diseased.post.infarction..donor1.CNhs11757.10050.101G5 227.46        \n",
       "                                                                     uniprot:P48788\n",
       "heart..adult..diseased.post.infarction..donor1.CNhs11757.10050.101G5 22.56         \n",
       "                                                                     tissues                                                             \n",
       "heart..adult..diseased.post.infarction..donor1.CNhs11757.10050.101G5 heart..adult..diseased.post.infarction..donor1.CNhs11757.10050.101G5"
      ]
     },
     "metadata": {},
     "output_type": "display_data"
    }
   ],
   "source": [
    "library(stringr)\n",
    "t_sp_dts <- t(sp_dts)\n",
    "tissues <- c(rownames(t_sp_dts))\n",
    "t_sp_dts <- cbind(t_sp_dts, tissues)\n",
    "a<- subset(t_sp_dts, grepl(\"infarction\",tissues))\n",
    "a\n",
    "# t_sp_dts"
   ]
  }
 ],
 "metadata": {
  "kernelspec": {
   "display_name": "R",
   "language": "R",
   "name": "ir"
  },
  "language_info": {
   "codemirror_mode": "r",
   "file_extension": ".r",
   "mimetype": "text/x-r-source",
   "name": "R",
   "pygments_lexer": "r",
   "version": "3.3.0"
  }
 },
 "nbformat": 4,
 "nbformat_minor": 0
}
