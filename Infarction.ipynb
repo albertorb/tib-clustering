{
 "cells": [
  {
   "cell_type": "markdown",
   "metadata": {},
   "source": [
    "# Smart techniques in Bioinformatics"
   ]
  },
  {
   "cell_type": "markdown",
   "metadata": {},
   "source": [
    "#### In this notebook, we explore the data and face MA against clustering to identify those proteins whose presence or absence could affect on human infarcts.\n",
    "\n",
    "First, we use MA technique to capture outliers. That give us an aproximation of what we are searching for. Then we use k-means clustering technique trying to achieve more accurate results."
   ]
  },
  {
   "cell_type": "code",
   "execution_count": 123,
   "metadata": {
    "collapsed": false
   },
   "outputs": [
    {
     "data": {
      "text/html": [
       "<table>\n",
       "<thead><tr><th scope=col>X00Annotation</th><th scope=col>short_description</th><th scope=col>uniprot_id</th><th scope=col>Astrocyte...cerebellum..donor1.CNhs11321.11500.119F6</th><th scope=col>Astrocyte...cerebral.cortex..donor1.CNhs10864.11235.116D2</th><th scope=col>brain..adult..donor1.CNhs11796.10084.102B3</th><th scope=col>brain..adult..pool1.CNhs10617.10012.101C3</th><th scope=col>brain..fetal..pool1.CNhs11797.10085.102B4</th><th scope=col>breast..adult..donor1.CNhs11792.10080.102A8</th><th scope=col>cerebellum...adult..donor10196.CNhs13799.10173.103C2</th><th scope=col>⋯</th><th scope=col>thalamus...adult..donor10196.CNhs13794.10168.103B6</th><th scope=col>thalamus..adult..donor10252.CNhs12314.10154.103A1</th><th scope=col>thalamus..adult..donor10258..tech_rep1.CNhs14223.10370.105G1</th><th scope=col>thalamus..adult..donor10258..tech_rep2.CNhs14551.10370.105G1</th><th scope=col>thalamus..newborn..donor10223.CNhs14084.10366.105F6</th><th scope=col>throat..fetal..donor1.CNhs11770.10061.101H7</th><th scope=col>thyroid..fetal..donor1.CNhs11769.10060.101H6</th><th scope=col>tongue.epidermis..fungiform.papillae...donor1.CNhs13460.10288.104F9</th><th scope=col>umbilical.cord..fetal..donor1.CNhs11765.10057.101H3</th><th scope=col>uterus..fetal..donor1.CNhs11763.10055.101H1</th></tr></thead>\n",
       "<tbody>\n",
       "\t<tr><td>chr10:100013403..100013414,-  </td><td>p@chr10:100013403..100013414,-</td><td>NA                            </td><td>0.00                          </td><td> 0.00                         </td><td>0                             </td><td>0                             </td><td>0                             </td><td>0.00                          </td><td>0                             </td><td>⋯                             </td><td>0.00                          </td><td>0.00                          </td><td>0.00                          </td><td>0.00                          </td><td>0                             </td><td>0.00                          </td><td>0.00                          </td><td>0.00                          </td><td>0.00                          </td><td>0.00                          </td></tr>\n",
       "\t<tr><td>chr10:100027943..100027958,-  </td><td>p1@LOXL4                      </td><td>uniprot:Q96JB6                </td><td>0.12                          </td><td>11.45                         </td><td>0                             </td><td>0                             </td><td>0                             </td><td>2.17                          </td><td>0                             </td><td>⋯                             </td><td>5.80                          </td><td>0.31                          </td><td>5.65                          </td><td>2.99                          </td><td>0                             </td><td>1.19                          </td><td>1.01                          </td><td>2.58                          </td><td>7.04                          </td><td>4.48                          </td></tr>\n",
       "\t<tr><td>chr10:100076685..100076699,+  </td><td>p@chr10:100076685..100076699,+</td><td>NA                            </td><td>0.00                          </td><td> 0.00                         </td><td>0                             </td><td>0                             </td><td>0                             </td><td>0.00                          </td><td>0                             </td><td>⋯                             </td><td>0.00                          </td><td>0.00                          </td><td>0.00                          </td><td>0.00                          </td><td>0                             </td><td>0.00                          </td><td>0.00                          </td><td>0.00                          </td><td>0.00                          </td><td>0.00                          </td></tr>\n",
       "\t<tr><td>chr10:100150910..100150935,-  </td><td>p@chr10:100150910..100150935,-</td><td>NA                            </td><td>0.00                          </td><td> 0.00                         </td><td>0                             </td><td>0                             </td><td>0                             </td><td>0.00                          </td><td>0                             </td><td>⋯                             </td><td>0.00                          </td><td>0.00                          </td><td>0.00                          </td><td>0.00                          </td><td>0                             </td><td>0.00                          </td><td>0.00                          </td><td>0.00                          </td><td>0.00                          </td><td>0.00                          </td></tr>\n",
       "\t<tr><td>chr10:100150951..100150962,-  </td><td>p@chr10:100150951..100150962,-</td><td>NA                            </td><td>0.00                          </td><td> 0.00                         </td><td>0                             </td><td>0                             </td><td>0                             </td><td>0.00                          </td><td>0                             </td><td>⋯                             </td><td>0.00                          </td><td>0.00                          </td><td>0.00                          </td><td>0.00                          </td><td>0                             </td><td>0.00                          </td><td>0.00                          </td><td>0.00                          </td><td>0.00                          </td><td>0.00                          </td></tr>\n",
       "\t<tr><td>chr10:100150986..100150988,+  </td><td>p@chr10:100150986..100150988,+</td><td>NA                            </td><td>0.00                          </td><td> 0.00                         </td><td>0                             </td><td>0                             </td><td>0                             </td><td>0.00                          </td><td>0                             </td><td>⋯                             </td><td>0.83                          </td><td>0.00                          </td><td>0.00                          </td><td>0.64                          </td><td>0                             </td><td>0.00                          </td><td>0.00                          </td><td>0.00                          </td><td>0.00                          </td><td>0.00                          </td></tr>\n",
       "</tbody>\n",
       "</table>\n"
      ],
      "text/latex": [
       "\\begin{tabular}{r|lllllllllllllllllllllllllllllllllllllllllllllllllllllllllllllllllllllllll}\n",
       " X00Annotation & short\\_description & uniprot\\_id & Astrocyte...cerebellum..donor1.CNhs11321.11500.119F6 & Astrocyte...cerebral.cortex..donor1.CNhs10864.11235.116D2 & brain..adult..donor1.CNhs11796.10084.102B3 & brain..adult..pool1.CNhs10617.10012.101C3 & brain..fetal..pool1.CNhs11797.10085.102B4 & breast..adult..donor1.CNhs11792.10080.102A8 & cerebellum...adult..donor10196.CNhs13799.10173.103C2 & ⋯ & thalamus...adult..donor10196.CNhs13794.10168.103B6 & thalamus..adult..donor10252.CNhs12314.10154.103A1 & thalamus..adult..donor10258..tech\\_rep1.CNhs14223.10370.105G1 & thalamus..adult..donor10258..tech\\_rep2.CNhs14551.10370.105G1 & thalamus..newborn..donor10223.CNhs14084.10366.105F6 & throat..fetal..donor1.CNhs11770.10061.101H7 & thyroid..fetal..donor1.CNhs11769.10060.101H6 & tongue.epidermis..fungiform.papillae...donor1.CNhs13460.10288.104F9 & umbilical.cord..fetal..donor1.CNhs11765.10057.101H3 & uterus..fetal..donor1.CNhs11763.10055.101H1\\\\\n",
       "\\hline\n",
       "\t chr10:100013403..100013414,-   & p@chr10:100013403..100013414,- & NA                             & 0.00                           &  0.00                          & 0                              & 0                              & 0                              & 0.00                           & 0                              & ⋯                              & 0.00                           & 0.00                           & 0.00                           & 0.00                           & 0                              & 0.00                           & 0.00                           & 0.00                           & 0.00                           & 0.00                          \\\\\n",
       "\t chr10:100027943..100027958,-   & p1@LOXL4                       & uniprot:Q96JB6                 & 0.12                           & 11.45                          & 0                              & 0                              & 0                              & 2.17                           & 0                              & ⋯                              & 5.80                           & 0.31                           & 5.65                           & 2.99                           & 0                              & 1.19                           & 1.01                           & 2.58                           & 7.04                           & 4.48                          \\\\\n",
       "\t chr10:100076685..100076699,+   & p@chr10:100076685..100076699,+ & NA                             & 0.00                           &  0.00                          & 0                              & 0                              & 0                              & 0.00                           & 0                              & ⋯                              & 0.00                           & 0.00                           & 0.00                           & 0.00                           & 0                              & 0.00                           & 0.00                           & 0.00                           & 0.00                           & 0.00                          \\\\\n",
       "\t chr10:100150910..100150935,-   & p@chr10:100150910..100150935,- & NA                             & 0.00                           &  0.00                          & 0                              & 0                              & 0                              & 0.00                           & 0                              & ⋯                              & 0.00                           & 0.00                           & 0.00                           & 0.00                           & 0                              & 0.00                           & 0.00                           & 0.00                           & 0.00                           & 0.00                          \\\\\n",
       "\t chr10:100150951..100150962,-   & p@chr10:100150951..100150962,- & NA                             & 0.00                           &  0.00                          & 0                              & 0                              & 0                              & 0.00                           & 0                              & ⋯                              & 0.00                           & 0.00                           & 0.00                           & 0.00                           & 0                              & 0.00                           & 0.00                           & 0.00                           & 0.00                           & 0.00                          \\\\\n",
       "\t chr10:100150986..100150988,+   & p@chr10:100150986..100150988,+ & NA                             & 0.00                           &  0.00                          & 0                              & 0                              & 0                              & 0.00                           & 0                              & ⋯                              & 0.83                           & 0.00                           & 0.00                           & 0.64                           & 0                              & 0.00                           & 0.00                           & 0.00                           & 0.00                           & 0.00                          \\\\\n",
       "\\end{tabular}\n"
      ],
      "text/markdown": [
       "\n",
       "X00Annotation | short_description | uniprot_id | Astrocyte...cerebellum..donor1.CNhs11321.11500.119F6 | Astrocyte...cerebral.cortex..donor1.CNhs10864.11235.116D2 | brain..adult..donor1.CNhs11796.10084.102B3 | brain..adult..pool1.CNhs10617.10012.101C3 | brain..fetal..pool1.CNhs11797.10085.102B4 | breast..adult..donor1.CNhs11792.10080.102A8 | cerebellum...adult..donor10196.CNhs13799.10173.103C2 | ⋯ | thalamus...adult..donor10196.CNhs13794.10168.103B6 | thalamus..adult..donor10252.CNhs12314.10154.103A1 | thalamus..adult..donor10258..tech_rep1.CNhs14223.10370.105G1 | thalamus..adult..donor10258..tech_rep2.CNhs14551.10370.105G1 | thalamus..newborn..donor10223.CNhs14084.10366.105F6 | throat..fetal..donor1.CNhs11770.10061.101H7 | thyroid..fetal..donor1.CNhs11769.10060.101H6 | tongue.epidermis..fungiform.papillae...donor1.CNhs13460.10288.104F9 | umbilical.cord..fetal..donor1.CNhs11765.10057.101H3 | uterus..fetal..donor1.CNhs11763.10055.101H1 | \n",
       "|---|---|---|---|---|---|\n",
       "| chr10:100013403..100013414,-   | p@chr10:100013403..100013414,- | NA                             | 0.00                           |  0.00                          | 0                              | 0                              | 0                              | 0.00                           | 0                              | ⋯                              | 0.00                           | 0.00                           | 0.00                           | 0.00                           | 0                              | 0.00                           | 0.00                           | 0.00                           | 0.00                           | 0.00                           | \n",
       "| chr10:100027943..100027958,-   | p1@LOXL4                       | uniprot:Q96JB6                 | 0.12                           | 11.45                          | 0                              | 0                              | 0                              | 2.17                           | 0                              | ⋯                              | 5.80                           | 0.31                           | 5.65                           | 2.99                           | 0                              | 1.19                           | 1.01                           | 2.58                           | 7.04                           | 4.48                           | \n",
       "| chr10:100076685..100076699,+   | p@chr10:100076685..100076699,+ | NA                             | 0.00                           |  0.00                          | 0                              | 0                              | 0                              | 0.00                           | 0                              | ⋯                              | 0.00                           | 0.00                           | 0.00                           | 0.00                           | 0                              | 0.00                           | 0.00                           | 0.00                           | 0.00                           | 0.00                           | \n",
       "| chr10:100150910..100150935,-   | p@chr10:100150910..100150935,- | NA                             | 0.00                           |  0.00                          | 0                              | 0                              | 0                              | 0.00                           | 0                              | ⋯                              | 0.00                           | 0.00                           | 0.00                           | 0.00                           | 0                              | 0.00                           | 0.00                           | 0.00                           | 0.00                           | 0.00                           | \n",
       "| chr10:100150951..100150962,-   | p@chr10:100150951..100150962,- | NA                             | 0.00                           |  0.00                          | 0                              | 0                              | 0                              | 0.00                           | 0                              | ⋯                              | 0.00                           | 0.00                           | 0.00                           | 0.00                           | 0                              | 0.00                           | 0.00                           | 0.00                           | 0.00                           | 0.00                           | \n",
       "| chr10:100150986..100150988,+   | p@chr10:100150986..100150988,+ | NA                             | 0.00                           |  0.00                          | 0                              | 0                              | 0                              | 0.00                           | 0                              | ⋯                              | 0.83                           | 0.00                           | 0.00                           | 0.64                           | 0                              | 0.00                           | 0.00                           | 0.00                           | 0.00                           | 0.00                           | \n",
       "\n",
       "\n"
      ],
      "text/plain": [
       "  X00Annotation                short_description              uniprot_id    \n",
       "1 chr10:100013403..100013414,- p@chr10:100013403..100013414,- NA            \n",
       "2 chr10:100027943..100027958,- p1@LOXL4                       uniprot:Q96JB6\n",
       "3 chr10:100076685..100076699,+ p@chr10:100076685..100076699,+ NA            \n",
       "4 chr10:100150910..100150935,- p@chr10:100150910..100150935,- NA            \n",
       "5 chr10:100150951..100150962,- p@chr10:100150951..100150962,- NA            \n",
       "6 chr10:100150986..100150988,+ p@chr10:100150986..100150988,+ NA            \n",
       "  Astrocyte...cerebellum..donor1.CNhs11321.11500.119F6\n",
       "1 0.00                                                \n",
       "2 0.12                                                \n",
       "3 0.00                                                \n",
       "4 0.00                                                \n",
       "5 0.00                                                \n",
       "6 0.00                                                \n",
       "  Astrocyte...cerebral.cortex..donor1.CNhs10864.11235.116D2\n",
       "1  0.00                                                    \n",
       "2 11.45                                                    \n",
       "3  0.00                                                    \n",
       "4  0.00                                                    \n",
       "5  0.00                                                    \n",
       "6  0.00                                                    \n",
       "  brain..adult..donor1.CNhs11796.10084.102B3\n",
       "1 0                                         \n",
       "2 0                                         \n",
       "3 0                                         \n",
       "4 0                                         \n",
       "5 0                                         \n",
       "6 0                                         \n",
       "  brain..adult..pool1.CNhs10617.10012.101C3\n",
       "1 0                                        \n",
       "2 0                                        \n",
       "3 0                                        \n",
       "4 0                                        \n",
       "5 0                                        \n",
       "6 0                                        \n",
       "  brain..fetal..pool1.CNhs11797.10085.102B4\n",
       "1 0                                        \n",
       "2 0                                        \n",
       "3 0                                        \n",
       "4 0                                        \n",
       "5 0                                        \n",
       "6 0                                        \n",
       "  breast..adult..donor1.CNhs11792.10080.102A8\n",
       "1 0.00                                       \n",
       "2 2.17                                       \n",
       "3 0.00                                       \n",
       "4 0.00                                       \n",
       "5 0.00                                       \n",
       "6 0.00                                       \n",
       "  cerebellum...adult..donor10196.CNhs13799.10173.103C2 ⋯\n",
       "1 0                                                    ⋯\n",
       "2 0                                                    ⋯\n",
       "3 0                                                    ⋯\n",
       "4 0                                                    ⋯\n",
       "5 0                                                    ⋯\n",
       "6 0                                                    ⋯\n",
       "  thalamus...adult..donor10196.CNhs13794.10168.103B6\n",
       "1 0.00                                              \n",
       "2 5.80                                              \n",
       "3 0.00                                              \n",
       "4 0.00                                              \n",
       "5 0.00                                              \n",
       "6 0.83                                              \n",
       "  thalamus..adult..donor10252.CNhs12314.10154.103A1\n",
       "1 0.00                                             \n",
       "2 0.31                                             \n",
       "3 0.00                                             \n",
       "4 0.00                                             \n",
       "5 0.00                                             \n",
       "6 0.00                                             \n",
       "  thalamus..adult..donor10258..tech_rep1.CNhs14223.10370.105G1\n",
       "1 0.00                                                        \n",
       "2 5.65                                                        \n",
       "3 0.00                                                        \n",
       "4 0.00                                                        \n",
       "5 0.00                                                        \n",
       "6 0.00                                                        \n",
       "  thalamus..adult..donor10258..tech_rep2.CNhs14551.10370.105G1\n",
       "1 0.00                                                        \n",
       "2 2.99                                                        \n",
       "3 0.00                                                        \n",
       "4 0.00                                                        \n",
       "5 0.00                                                        \n",
       "6 0.64                                                        \n",
       "  thalamus..newborn..donor10223.CNhs14084.10366.105F6\n",
       "1 0                                                  \n",
       "2 0                                                  \n",
       "3 0                                                  \n",
       "4 0                                                  \n",
       "5 0                                                  \n",
       "6 0                                                  \n",
       "  throat..fetal..donor1.CNhs11770.10061.101H7\n",
       "1 0.00                                       \n",
       "2 1.19                                       \n",
       "3 0.00                                       \n",
       "4 0.00                                       \n",
       "5 0.00                                       \n",
       "6 0.00                                       \n",
       "  thyroid..fetal..donor1.CNhs11769.10060.101H6\n",
       "1 0.00                                        \n",
       "2 1.01                                        \n",
       "3 0.00                                        \n",
       "4 0.00                                        \n",
       "5 0.00                                        \n",
       "6 0.00                                        \n",
       "  tongue.epidermis..fungiform.papillae...donor1.CNhs13460.10288.104F9\n",
       "1 0.00                                                               \n",
       "2 2.58                                                               \n",
       "3 0.00                                                               \n",
       "4 0.00                                                               \n",
       "5 0.00                                                               \n",
       "6 0.00                                                               \n",
       "  umbilical.cord..fetal..donor1.CNhs11765.10057.101H3\n",
       "1 0.00                                               \n",
       "2 7.04                                               \n",
       "3 0.00                                               \n",
       "4 0.00                                               \n",
       "5 0.00                                               \n",
       "6 0.00                                               \n",
       "  uterus..fetal..donor1.CNhs11763.10055.101H1\n",
       "1 0.00                                       \n",
       "2 4.48                                       \n",
       "3 0.00                                       \n",
       "4 0.00                                       \n",
       "5 0.00                                       \n",
       "6 0.00                                       "
      ]
     },
     "metadata": {},
     "output_type": "display_data"
    }
   ],
   "source": [
    "dts <- read.csv('data.tsv',sep = '\\t' ,header=TRUE)\n",
    "head(dts)"
   ]
  },
  {
   "cell_type": "markdown",
   "metadata": {},
   "source": [
    "### Data cleaning"
   ]
  },
  {
   "cell_type": "markdown",
   "metadata": {},
   "source": [
    "#### Shorten info\n",
    "\n",
    "We remove the first and the second row because it is enough just with uniprot_id for out purpose."
   ]
  },
  {
   "cell_type": "code",
   "execution_count": 124,
   "metadata": {
    "collapsed": false
   },
   "outputs": [
    {
     "name": "stdout",
     "output_type": "stream",
     "text": [
      "Number of gens:  201802 \n",
      "Number of tissues:  71"
     ]
    }
   ],
   "source": [
    "dts <- dts[,-1:-2]\n",
    "cat(\"Number of gens: \", nrow(dts), \"\\n\") \n",
    "cat(\"Number of tissues: \", ncol(dts)) "
   ]
  },
  {
   "cell_type": "markdown",
   "metadata": {},
   "source": [
    "#### Remove missing values"
   ]
  },
  {
   "cell_type": "code",
   "execution_count": 125,
   "metadata": {
    "collapsed": false
   },
   "outputs": [
    {
     "data": {
      "text/html": [
       "<table>\n",
       "<thead><tr><th></th><th scope=col>uniprot_id</th><th scope=col>Astrocyte...cerebellum..donor1.CNhs11321.11500.119F6</th><th scope=col>Astrocyte...cerebral.cortex..donor1.CNhs10864.11235.116D2</th><th scope=col>brain..adult..donor1.CNhs11796.10084.102B3</th><th scope=col>brain..adult..pool1.CNhs10617.10012.101C3</th><th scope=col>brain..fetal..pool1.CNhs11797.10085.102B4</th><th scope=col>breast..adult..donor1.CNhs11792.10080.102A8</th><th scope=col>cerebellum...adult..donor10196.CNhs13799.10173.103C2</th><th scope=col>cerebellum..adult..donor10252.CNhs12323.10166.103B4</th><th scope=col>cerebellum..newborn..donor10223.CNhs14075.10357.105E6</th><th scope=col>⋯</th><th scope=col>thalamus...adult..donor10196.CNhs13794.10168.103B6</th><th scope=col>thalamus..adult..donor10252.CNhs12314.10154.103A1</th><th scope=col>thalamus..adult..donor10258..tech_rep1.CNhs14223.10370.105G1</th><th scope=col>thalamus..adult..donor10258..tech_rep2.CNhs14551.10370.105G1</th><th scope=col>thalamus..newborn..donor10223.CNhs14084.10366.105F6</th><th scope=col>throat..fetal..donor1.CNhs11770.10061.101H7</th><th scope=col>thyroid..fetal..donor1.CNhs11769.10060.101H6</th><th scope=col>tongue.epidermis..fungiform.papillae...donor1.CNhs13460.10288.104F9</th><th scope=col>umbilical.cord..fetal..donor1.CNhs11765.10057.101H3</th><th scope=col>uterus..fetal..donor1.CNhs11763.10055.101H1</th></tr></thead>\n",
       "<tbody>\n",
       "\t<tr><th scope=row>2</th><td>uniprot:Q96JB6                              </td><td> 0.12                                       </td><td>11.45                                       </td><td> 0.00                                       </td><td> 0.00                                       </td><td> 0.00                                       </td><td> 2.17                                       </td><td> 0.00                                       </td><td> 0.22                                       </td><td> 1.03                                       </td><td>⋯                                           </td><td> 5.80                                       </td><td> 0.31                                       </td><td> 5.65                                       </td><td> 2.99                                       </td><td> 0.00                                       </td><td> 1.19                                       </td><td> 1.01                                       </td><td> 2.58                                       </td><td> 7.04                                       </td><td> 4.48                                       </td></tr>\n",
       "\t<tr><th scope=row>7</th><td>uniprot:Q8N2H3                              </td><td> 7.51                                       </td><td> 6.30                                       </td><td> 3.88                                       </td><td> 3.71                                       </td><td> 2.00                                       </td><td> 5.07                                       </td><td> 1.53                                       </td><td> 1.99                                       </td><td> 6.72                                       </td><td>⋯                                           </td><td> 4.15                                       </td><td> 7.34                                       </td><td> 4.23                                       </td><td> 3.84                                       </td><td> 4.28                                       </td><td>15.24                                       </td><td>11.92                                       </td><td> 7.74                                       </td><td> 7.04                                       </td><td>15.87                                       </td></tr>\n",
       "\t<tr><th scope=row>8</th><td>uniprot:Q8N2H3                              </td><td> 3.69                                       </td><td> 3.43                                       </td><td> 1.94                                       </td><td> 0.65                                       </td><td> 0.00                                       </td><td> 0.00                                       </td><td> 1.53                                       </td><td> 0.55                                       </td><td> 1.55                                       </td><td>⋯                                           </td><td> 0.83                                       </td><td> 2.69                                       </td><td> 2.82                                       </td><td> 1.92                                       </td><td> 0.00                                       </td><td> 3.33                                       </td><td> 3.03                                       </td><td> 2.58                                       </td><td> 2.35                                       </td><td> 5.29                                       </td></tr>\n",
       "\t<tr><th scope=row>15</th><td>uniprot:Q92902,uniprot:Q658M9,uniprot:Q8WXE5</td><td>35.58                                       </td><td>20.61                                       </td><td>30.05                                       </td><td>21.71                                       </td><td>19.96                                       </td><td>31.90                                       </td><td>13.73                                       </td><td>20.79                                       </td><td>21.72                                       </td><td>⋯                                           </td><td>15.75                                       </td><td>26.89                                       </td><td>24.00                                       </td><td>26.24                                       </td><td>12.83                                       </td><td>19.76                                       </td><td>22.03                                       </td><td>12.90                                       </td><td>32.85                                       </td><td>17.09                                       </td></tr>\n",
       "\t<tr><th scope=row>24</th><td>uniprot:Q8WWQ2                              </td><td> 0.00                                       </td><td> 0.00                                       </td><td> 0.00                                       </td><td> 1.02                                       </td><td> 0.00                                       </td><td> 0.00                                       </td><td> 0.00                                       </td><td> 2.99                                       </td><td> 0.00                                       </td><td>⋯                                           </td><td> 5.80                                       </td><td> 8.38                                       </td><td> 4.23                                       </td><td> 8.96                                       </td><td> 0.71                                       </td><td> 0.71                                       </td><td> 0.00                                       </td><td> 0.00                                       </td><td> 7.04                                       </td><td> 5.70                                       </td></tr>\n",
       "\t<tr><th scope=row>25</th><td>uniprot:Q8WWQ2                              </td><td> 0.00                                       </td><td> 0.00                                       </td><td> 0.00                                       </td><td> 0.00                                       </td><td> 0.00                                       </td><td> 0.00                                       </td><td> 0.00                                       </td><td> 0.00                                       </td><td> 0.00                                       </td><td>⋯                                           </td><td> 1.66                                       </td><td> 0.10                                       </td><td> 0.00                                       </td><td> 0.43                                       </td><td> 0.00                                       </td><td> 0.00                                       </td><td> 0.00                                       </td><td> 0.00                                       </td><td> 0.00                                       </td><td> 0.00                                       </td></tr>\n",
       "</tbody>\n",
       "</table>\n"
      ],
      "text/latex": [
       "\\begin{tabular}{r|lllllllllllllllllllllllllllllllllllllllllllllllllllllllllllllllllllllll}\n",
       "  & uniprot\\_id & Astrocyte...cerebellum..donor1.CNhs11321.11500.119F6 & Astrocyte...cerebral.cortex..donor1.CNhs10864.11235.116D2 & brain..adult..donor1.CNhs11796.10084.102B3 & brain..adult..pool1.CNhs10617.10012.101C3 & brain..fetal..pool1.CNhs11797.10085.102B4 & breast..adult..donor1.CNhs11792.10080.102A8 & cerebellum...adult..donor10196.CNhs13799.10173.103C2 & cerebellum..adult..donor10252.CNhs12323.10166.103B4 & cerebellum..newborn..donor10223.CNhs14075.10357.105E6 & ⋯ & thalamus...adult..donor10196.CNhs13794.10168.103B6 & thalamus..adult..donor10252.CNhs12314.10154.103A1 & thalamus..adult..donor10258..tech\\_rep1.CNhs14223.10370.105G1 & thalamus..adult..donor10258..tech\\_rep2.CNhs14551.10370.105G1 & thalamus..newborn..donor10223.CNhs14084.10366.105F6 & throat..fetal..donor1.CNhs11770.10061.101H7 & thyroid..fetal..donor1.CNhs11769.10060.101H6 & tongue.epidermis..fungiform.papillae...donor1.CNhs13460.10288.104F9 & umbilical.cord..fetal..donor1.CNhs11765.10057.101H3 & uterus..fetal..donor1.CNhs11763.10055.101H1\\\\\n",
       "\\hline\n",
       "\t2 & uniprot:Q96JB6                               &  0.12                                        & 11.45                                        &  0.00                                        &  0.00                                        &  0.00                                        &  2.17                                        &  0.00                                        &  0.22                                        &  1.03                                        & ⋯                                            &  5.80                                        &  0.31                                        &  5.65                                        &  2.99                                        &  0.00                                        &  1.19                                        &  1.01                                        &  2.58                                        &  7.04                                        &  4.48                                       \\\\\n",
       "\t7 & uniprot:Q8N2H3                               &  7.51                                        &  6.30                                        &  3.88                                        &  3.71                                        &  2.00                                        &  5.07                                        &  1.53                                        &  1.99                                        &  6.72                                        & ⋯                                            &  4.15                                        &  7.34                                        &  4.23                                        &  3.84                                        &  4.28                                        & 15.24                                        & 11.92                                        &  7.74                                        &  7.04                                        & 15.87                                       \\\\\n",
       "\t8 & uniprot:Q8N2H3                               &  3.69                                        &  3.43                                        &  1.94                                        &  0.65                                        &  0.00                                        &  0.00                                        &  1.53                                        &  0.55                                        &  1.55                                        & ⋯                                            &  0.83                                        &  2.69                                        &  2.82                                        &  1.92                                        &  0.00                                        &  3.33                                        &  3.03                                        &  2.58                                        &  2.35                                        &  5.29                                       \\\\\n",
       "\t15 & uniprot:Q92902,uniprot:Q658M9,uniprot:Q8WXE5 & 35.58                                        & 20.61                                        & 30.05                                        & 21.71                                        & 19.96                                        & 31.90                                        & 13.73                                        & 20.79                                        & 21.72                                        & ⋯                                            & 15.75                                        & 26.89                                        & 24.00                                        & 26.24                                        & 12.83                                        & 19.76                                        & 22.03                                        & 12.90                                        & 32.85                                        & 17.09                                       \\\\\n",
       "\t24 & uniprot:Q8WWQ2                               &  0.00                                        &  0.00                                        &  0.00                                        &  1.02                                        &  0.00                                        &  0.00                                        &  0.00                                        &  2.99                                        &  0.00                                        & ⋯                                            &  5.80                                        &  8.38                                        &  4.23                                        &  8.96                                        &  0.71                                        &  0.71                                        &  0.00                                        &  0.00                                        &  7.04                                        &  5.70                                       \\\\\n",
       "\t25 & uniprot:Q8WWQ2                               &  0.00                                        &  0.00                                        &  0.00                                        &  0.00                                        &  0.00                                        &  0.00                                        &  0.00                                        &  0.00                                        &  0.00                                        & ⋯                                            &  1.66                                        &  0.10                                        &  0.00                                        &  0.43                                        &  0.00                                        &  0.00                                        &  0.00                                        &  0.00                                        &  0.00                                        &  0.00                                       \\\\\n",
       "\\end{tabular}\n"
      ],
      "text/markdown": [
       "\n",
       "| <!--/--> | uniprot_id | Astrocyte...cerebellum..donor1.CNhs11321.11500.119F6 | Astrocyte...cerebral.cortex..donor1.CNhs10864.11235.116D2 | brain..adult..donor1.CNhs11796.10084.102B3 | brain..adult..pool1.CNhs10617.10012.101C3 | brain..fetal..pool1.CNhs11797.10085.102B4 | breast..adult..donor1.CNhs11792.10080.102A8 | cerebellum...adult..donor10196.CNhs13799.10173.103C2 | cerebellum..adult..donor10252.CNhs12323.10166.103B4 | cerebellum..newborn..donor10223.CNhs14075.10357.105E6 | ⋯ | thalamus...adult..donor10196.CNhs13794.10168.103B6 | thalamus..adult..donor10252.CNhs12314.10154.103A1 | thalamus..adult..donor10258..tech_rep1.CNhs14223.10370.105G1 | thalamus..adult..donor10258..tech_rep2.CNhs14551.10370.105G1 | thalamus..newborn..donor10223.CNhs14084.10366.105F6 | throat..fetal..donor1.CNhs11770.10061.101H7 | thyroid..fetal..donor1.CNhs11769.10060.101H6 | tongue.epidermis..fungiform.papillae...donor1.CNhs13460.10288.104F9 | umbilical.cord..fetal..donor1.CNhs11765.10057.101H3 | uterus..fetal..donor1.CNhs11763.10055.101H1 | \n",
       "|---|---|---|---|---|---|\n",
       "| 2 | uniprot:Q96JB6                               |  0.12                                        | 11.45                                        |  0.00                                        |  0.00                                        |  0.00                                        |  2.17                                        |  0.00                                        |  0.22                                        |  1.03                                        | ⋯                                            |  5.80                                        |  0.31                                        |  5.65                                        |  2.99                                        |  0.00                                        |  1.19                                        |  1.01                                        |  2.58                                        |  7.04                                        |  4.48                                        | \n",
       "| 7 | uniprot:Q8N2H3                               |  7.51                                        |  6.30                                        |  3.88                                        |  3.71                                        |  2.00                                        |  5.07                                        |  1.53                                        |  1.99                                        |  6.72                                        | ⋯                                            |  4.15                                        |  7.34                                        |  4.23                                        |  3.84                                        |  4.28                                        | 15.24                                        | 11.92                                        |  7.74                                        |  7.04                                        | 15.87                                        | \n",
       "| 8 | uniprot:Q8N2H3                               |  3.69                                        |  3.43                                        |  1.94                                        |  0.65                                        |  0.00                                        |  0.00                                        |  1.53                                        |  0.55                                        |  1.55                                        | ⋯                                            |  0.83                                        |  2.69                                        |  2.82                                        |  1.92                                        |  0.00                                        |  3.33                                        |  3.03                                        |  2.58                                        |  2.35                                        |  5.29                                        | \n",
       "| 15 | uniprot:Q92902,uniprot:Q658M9,uniprot:Q8WXE5 | 35.58                                        | 20.61                                        | 30.05                                        | 21.71                                        | 19.96                                        | 31.90                                        | 13.73                                        | 20.79                                        | 21.72                                        | ⋯                                            | 15.75                                        | 26.89                                        | 24.00                                        | 26.24                                        | 12.83                                        | 19.76                                        | 22.03                                        | 12.90                                        | 32.85                                        | 17.09                                        | \n",
       "| 24 | uniprot:Q8WWQ2                               |  0.00                                        |  0.00                                        |  0.00                                        |  1.02                                        |  0.00                                        |  0.00                                        |  0.00                                        |  2.99                                        |  0.00                                        | ⋯                                            |  5.80                                        |  8.38                                        |  4.23                                        |  8.96                                        |  0.71                                        |  0.71                                        |  0.00                                        |  0.00                                        |  7.04                                        |  5.70                                        | \n",
       "| 25 | uniprot:Q8WWQ2                               |  0.00                                        |  0.00                                        |  0.00                                        |  0.00                                        |  0.00                                        |  0.00                                        |  0.00                                        |  0.00                                        |  0.00                                        | ⋯                                            |  1.66                                        |  0.10                                        |  0.00                                        |  0.43                                        |  0.00                                        |  0.00                                        |  0.00                                        |  0.00                                        |  0.00                                        |  0.00                                        | \n",
       "\n",
       "\n"
      ],
      "text/plain": [
       "   uniprot_id                                  \n",
       "2  uniprot:Q96JB6                              \n",
       "7  uniprot:Q8N2H3                              \n",
       "8  uniprot:Q8N2H3                              \n",
       "15 uniprot:Q92902,uniprot:Q658M9,uniprot:Q8WXE5\n",
       "24 uniprot:Q8WWQ2                              \n",
       "25 uniprot:Q8WWQ2                              \n",
       "   Astrocyte...cerebellum..donor1.CNhs11321.11500.119F6\n",
       "2   0.12                                               \n",
       "7   7.51                                               \n",
       "8   3.69                                               \n",
       "15 35.58                                               \n",
       "24  0.00                                               \n",
       "25  0.00                                               \n",
       "   Astrocyte...cerebral.cortex..donor1.CNhs10864.11235.116D2\n",
       "2  11.45                                                    \n",
       "7   6.30                                                    \n",
       "8   3.43                                                    \n",
       "15 20.61                                                    \n",
       "24  0.00                                                    \n",
       "25  0.00                                                    \n",
       "   brain..adult..donor1.CNhs11796.10084.102B3\n",
       "2   0.00                                     \n",
       "7   3.88                                     \n",
       "8   1.94                                     \n",
       "15 30.05                                     \n",
       "24  0.00                                     \n",
       "25  0.00                                     \n",
       "   brain..adult..pool1.CNhs10617.10012.101C3\n",
       "2   0.00                                    \n",
       "7   3.71                                    \n",
       "8   0.65                                    \n",
       "15 21.71                                    \n",
       "24  1.02                                    \n",
       "25  0.00                                    \n",
       "   brain..fetal..pool1.CNhs11797.10085.102B4\n",
       "2   0.00                                    \n",
       "7   2.00                                    \n",
       "8   0.00                                    \n",
       "15 19.96                                    \n",
       "24  0.00                                    \n",
       "25  0.00                                    \n",
       "   breast..adult..donor1.CNhs11792.10080.102A8\n",
       "2   2.17                                      \n",
       "7   5.07                                      \n",
       "8   0.00                                      \n",
       "15 31.90                                      \n",
       "24  0.00                                      \n",
       "25  0.00                                      \n",
       "   cerebellum...adult..donor10196.CNhs13799.10173.103C2\n",
       "2   0.00                                               \n",
       "7   1.53                                               \n",
       "8   1.53                                               \n",
       "15 13.73                                               \n",
       "24  0.00                                               \n",
       "25  0.00                                               \n",
       "   cerebellum..adult..donor10252.CNhs12323.10166.103B4\n",
       "2   0.22                                              \n",
       "7   1.99                                              \n",
       "8   0.55                                              \n",
       "15 20.79                                              \n",
       "24  2.99                                              \n",
       "25  0.00                                              \n",
       "   cerebellum..newborn..donor10223.CNhs14075.10357.105E6 ⋯\n",
       "2   1.03                                                 ⋯\n",
       "7   6.72                                                 ⋯\n",
       "8   1.55                                                 ⋯\n",
       "15 21.72                                                 ⋯\n",
       "24  0.00                                                 ⋯\n",
       "25  0.00                                                 ⋯\n",
       "   thalamus...adult..donor10196.CNhs13794.10168.103B6\n",
       "2   5.80                                             \n",
       "7   4.15                                             \n",
       "8   0.83                                             \n",
       "15 15.75                                             \n",
       "24  5.80                                             \n",
       "25  1.66                                             \n",
       "   thalamus..adult..donor10252.CNhs12314.10154.103A1\n",
       "2   0.31                                            \n",
       "7   7.34                                            \n",
       "8   2.69                                            \n",
       "15 26.89                                            \n",
       "24  8.38                                            \n",
       "25  0.10                                            \n",
       "   thalamus..adult..donor10258..tech_rep1.CNhs14223.10370.105G1\n",
       "2   5.65                                                       \n",
       "7   4.23                                                       \n",
       "8   2.82                                                       \n",
       "15 24.00                                                       \n",
       "24  4.23                                                       \n",
       "25  0.00                                                       \n",
       "   thalamus..adult..donor10258..tech_rep2.CNhs14551.10370.105G1\n",
       "2   2.99                                                       \n",
       "7   3.84                                                       \n",
       "8   1.92                                                       \n",
       "15 26.24                                                       \n",
       "24  8.96                                                       \n",
       "25  0.43                                                       \n",
       "   thalamus..newborn..donor10223.CNhs14084.10366.105F6\n",
       "2   0.00                                              \n",
       "7   4.28                                              \n",
       "8   0.00                                              \n",
       "15 12.83                                              \n",
       "24  0.71                                              \n",
       "25  0.00                                              \n",
       "   throat..fetal..donor1.CNhs11770.10061.101H7\n",
       "2   1.19                                      \n",
       "7  15.24                                      \n",
       "8   3.33                                      \n",
       "15 19.76                                      \n",
       "24  0.71                                      \n",
       "25  0.00                                      \n",
       "   thyroid..fetal..donor1.CNhs11769.10060.101H6\n",
       "2   1.01                                       \n",
       "7  11.92                                       \n",
       "8   3.03                                       \n",
       "15 22.03                                       \n",
       "24  0.00                                       \n",
       "25  0.00                                       \n",
       "   tongue.epidermis..fungiform.papillae...donor1.CNhs13460.10288.104F9\n",
       "2   2.58                                                              \n",
       "7   7.74                                                              \n",
       "8   2.58                                                              \n",
       "15 12.90                                                              \n",
       "24  0.00                                                              \n",
       "25  0.00                                                              \n",
       "   umbilical.cord..fetal..donor1.CNhs11765.10057.101H3\n",
       "2   7.04                                              \n",
       "7   7.04                                              \n",
       "8   2.35                                              \n",
       "15 32.85                                              \n",
       "24  7.04                                              \n",
       "25  0.00                                              \n",
       "   uterus..fetal..donor1.CNhs11763.10055.101H1\n",
       "2   4.48                                      \n",
       "7  15.87                                      \n",
       "8   5.29                                      \n",
       "15 17.09                                      \n",
       "24  5.70                                      \n",
       "25  0.00                                      "
      ]
     },
     "metadata": {},
     "output_type": "display_data"
    }
   ],
   "source": [
    "dts <- na.omit(dts)\n",
    "dts <- subset(dts, uniprot_id!=\"\")\n",
    "head(dts)"
   ]
  },
  {
   "cell_type": "markdown",
   "metadata": {},
   "source": [
    "#### Group repeated experiments of the same protein\n",
    "\n",
    "As we can see there are some repeated experiments so we group them and store the mean of their gene expresion. There are some experiments in which more than one gen was measured but we will treat them as if they were a single gen."
   ]
  },
  {
   "cell_type": "code",
   "execution_count": 126,
   "metadata": {
    "collapsed": false
   },
   "outputs": [],
   "source": [
    "library(plyr)\n",
    "small_dts <- ddply(dts, 'uniprot_id', numcolwise(mean))"
   ]
  },
  {
   "cell_type": "markdown",
   "metadata": {},
   "source": [
    "#### Change index\n",
    "\n",
    "Now, to work more confortable, we assign the protein's id as indexes of the data frame. In addition, that ensure that experiments are unique and therefore step above worked."
   ]
  },
  {
   "cell_type": "code",
   "execution_count": 127,
   "metadata": {
    "collapsed": false
   },
   "outputs": [],
   "source": [
    "rownames(small_dts) <- small_dts$uniprot_id"
   ]
  },
  {
   "cell_type": "markdown",
   "metadata": {},
   "source": [
    "uniprot_id is then removed from columns"
   ]
  },
  {
   "cell_type": "code",
   "execution_count": 128,
   "metadata": {
    "collapsed": false
   },
   "outputs": [
    {
     "data": {
      "text/html": [
       "<table>\n",
       "<thead><tr><th></th><th scope=col>Astrocyte...cerebellum..donor1.CNhs11321.11500.119F6</th><th scope=col>Astrocyte...cerebral.cortex..donor1.CNhs10864.11235.116D2</th><th scope=col>brain..adult..donor1.CNhs11796.10084.102B3</th><th scope=col>brain..adult..pool1.CNhs10617.10012.101C3</th><th scope=col>brain..fetal..pool1.CNhs11797.10085.102B4</th><th scope=col>breast..adult..donor1.CNhs11792.10080.102A8</th><th scope=col>cerebellum...adult..donor10196.CNhs13799.10173.103C2</th><th scope=col>cerebellum..adult..donor10252.CNhs12323.10166.103B4</th><th scope=col>cerebellum..newborn..donor10223.CNhs14075.10357.105E6</th><th scope=col>dura.mater..adult..donor1.CNhs10648.10041.101F5</th><th scope=col>⋯</th><th scope=col>thalamus...adult..donor10196.CNhs13794.10168.103B6</th><th scope=col>thalamus..adult..donor10252.CNhs12314.10154.103A1</th><th scope=col>thalamus..adult..donor10258..tech_rep1.CNhs14223.10370.105G1</th><th scope=col>thalamus..adult..donor10258..tech_rep2.CNhs14551.10370.105G1</th><th scope=col>thalamus..newborn..donor10223.CNhs14084.10366.105F6</th><th scope=col>throat..fetal..donor1.CNhs11770.10061.101H7</th><th scope=col>thyroid..fetal..donor1.CNhs11769.10060.101H6</th><th scope=col>tongue.epidermis..fungiform.papillae...donor1.CNhs13460.10288.104F9</th><th scope=col>umbilical.cord..fetal..donor1.CNhs11765.10057.101H3</th><th scope=col>uterus..fetal..donor1.CNhs11763.10055.101H1</th></tr></thead>\n",
       "<tbody>\n",
       "\t<tr><th scope=row>uniprot:Q9Y6Y8,uniprot:F5H0L8</th><td>29.55 </td><td>34.63 </td><td>35.87 </td><td>26.530</td><td>31.94 </td><td>42.77 </td><td>64.08 </td><td>34.17 </td><td>42.93 </td><td>43.730</td><td>⋯     </td><td>53.07 </td><td>24.72 </td><td>31.06 </td><td>41.81 </td><td>43.47 </td><td>51.66 </td><td>62.450</td><td>51.60 </td><td>44.58 </td><td>39.060</td></tr>\n",
       "\t<tr><th scope=row>uniprot:Q9Y6Y9,uniprot:D0VAW8</th><td> 0.00 </td><td> 0.00 </td><td> 0.00 </td><td> 0.185</td><td> 0.00 </td><td> 0.72 </td><td> 0.00 </td><td> 0.11 </td><td> 0.26 </td><td> 1.485</td><td>⋯     </td><td> 0.83 </td><td> 0.52 </td><td> 0.00 </td><td> 0.00 </td><td> 1.07 </td><td> 0.12 </td><td> 0.305</td><td> 0.00 </td><td> 0.00 </td><td> 0.405</td></tr>\n",
       "\t<tr><th scope=row>uniprot:Q9Y6Y9,uniprot:E5RJJ7</th><td> 0.49 </td><td> 0.29 </td><td> 2.91 </td><td>13.080</td><td> 2.00 </td><td>18.12 </td><td> 1.53 </td><td> 3.10 </td><td> 4.66 </td><td>29.190</td><td>⋯     </td><td>11.61 </td><td>12.10 </td><td> 7.06 </td><td> 7.25 </td><td>14.96 </td><td> 5.24 </td><td> 1.410</td><td> 2.58 </td><td> 9.39 </td><td> 7.730</td></tr>\n",
       "\t<tr><th scope=row>uniprot:Q9Y6Z2</th><td> 0.00 </td><td> 0.00 </td><td> 0.00 </td><td> 0.000</td><td> 0.00 </td><td> 0.00 </td><td> 0.00 </td><td> 0.00 </td><td> 0.00 </td><td> 0.000</td><td>⋯     </td><td> 0.00 </td><td> 0.21 </td><td> 0.00 </td><td> 0.00 </td><td> 0.00 </td><td> 1.67 </td><td> 3.230</td><td> 0.00 </td><td> 0.00 </td><td> 0.000</td></tr>\n",
       "\t<tr><th scope=row>uniprot:Q9Y6Z5</th><td> 0.37 </td><td> 0.86 </td><td> 0.00 </td><td> 0.280</td><td> 9.98 </td><td> 0.00 </td><td> 0.00 </td><td> 0.55 </td><td> 3.62 </td><td> 0.000</td><td>⋯     </td><td> 0.00 </td><td> 0.41 </td><td> 0.00 </td><td> 0.00 </td><td> 0.00 </td><td> 0.48 </td><td> 0.200</td><td> 0.00 </td><td> 0.00 </td><td> 0.810</td></tr>\n",
       "\t<tr><th scope=row>uniprot:Q9Y6Z7</th><td> 0.00 </td><td> 0.00 </td><td> 0.00 </td><td> 0.000</td><td> 0.00 </td><td> 0.00 </td><td> 0.00 </td><td> 0.00 </td><td> 0.00 </td><td> 0.000</td><td>⋯     </td><td> 0.00 </td><td> 0.00 </td><td> 0.00 </td><td> 0.00 </td><td> 0.00 </td><td> 0.00 </td><td> 0.000</td><td> 0.00 </td><td> 0.00 </td><td> 0.000</td></tr>\n",
       "</tbody>\n",
       "</table>\n"
      ],
      "text/latex": [
       "\\begin{tabular}{r|llllllllllllllllllllllllllllllllllllllllllllllllllllllllllllllllllllll}\n",
       "  & Astrocyte...cerebellum..donor1.CNhs11321.11500.119F6 & Astrocyte...cerebral.cortex..donor1.CNhs10864.11235.116D2 & brain..adult..donor1.CNhs11796.10084.102B3 & brain..adult..pool1.CNhs10617.10012.101C3 & brain..fetal..pool1.CNhs11797.10085.102B4 & breast..adult..donor1.CNhs11792.10080.102A8 & cerebellum...adult..donor10196.CNhs13799.10173.103C2 & cerebellum..adult..donor10252.CNhs12323.10166.103B4 & cerebellum..newborn..donor10223.CNhs14075.10357.105E6 & dura.mater..adult..donor1.CNhs10648.10041.101F5 & ⋯ & thalamus...adult..donor10196.CNhs13794.10168.103B6 & thalamus..adult..donor10252.CNhs12314.10154.103A1 & thalamus..adult..donor10258..tech\\_rep1.CNhs14223.10370.105G1 & thalamus..adult..donor10258..tech\\_rep2.CNhs14551.10370.105G1 & thalamus..newborn..donor10223.CNhs14084.10366.105F6 & throat..fetal..donor1.CNhs11770.10061.101H7 & thyroid..fetal..donor1.CNhs11769.10060.101H6 & tongue.epidermis..fungiform.papillae...donor1.CNhs13460.10288.104F9 & umbilical.cord..fetal..donor1.CNhs11765.10057.101H3 & uterus..fetal..donor1.CNhs11763.10055.101H1\\\\\n",
       "\\hline\n",
       "\tuniprot:Q9Y6Y8,uniprot:F5H0L8 & 29.55  & 34.63  & 35.87  & 26.530 & 31.94  & 42.77  & 64.08  & 34.17  & 42.93  & 43.730 & ⋯      & 53.07  & 24.72  & 31.06  & 41.81  & 43.47  & 51.66  & 62.450 & 51.60  & 44.58  & 39.060\\\\\n",
       "\tuniprot:Q9Y6Y9,uniprot:D0VAW8 &  0.00  &  0.00  &  0.00  &  0.185 &  0.00  &  0.72  &  0.00  &  0.11  &  0.26  &  1.485 & ⋯      &  0.83  &  0.52  &  0.00  &  0.00  &  1.07  &  0.12  &  0.305 &  0.00  &  0.00  &  0.405\\\\\n",
       "\tuniprot:Q9Y6Y9,uniprot:E5RJJ7 &  0.49  &  0.29  &  2.91  & 13.080 &  2.00  & 18.12  &  1.53  &  3.10  &  4.66  & 29.190 & ⋯      & 11.61  & 12.10  &  7.06  &  7.25  & 14.96  &  5.24  &  1.410 &  2.58  &  9.39  &  7.730\\\\\n",
       "\tuniprot:Q9Y6Z2 &  0.00  &  0.00  &  0.00  &  0.000 &  0.00  &  0.00  &  0.00  &  0.00  &  0.00  &  0.000 & ⋯      &  0.00  &  0.21  &  0.00  &  0.00  &  0.00  &  1.67  &  3.230 &  0.00  &  0.00  &  0.000\\\\\n",
       "\tuniprot:Q9Y6Z5 &  0.37  &  0.86  &  0.00  &  0.280 &  9.98  &  0.00  &  0.00  &  0.55  &  3.62  &  0.000 & ⋯      &  0.00  &  0.41  &  0.00  &  0.00  &  0.00  &  0.48  &  0.200 &  0.00  &  0.00  &  0.810\\\\\n",
       "\tuniprot:Q9Y6Z7 &  0.00  &  0.00  &  0.00  &  0.000 &  0.00  &  0.00  &  0.00  &  0.00  &  0.00  &  0.000 & ⋯      &  0.00  &  0.00  &  0.00  &  0.00  &  0.00  &  0.00  &  0.000 &  0.00  &  0.00  &  0.000\\\\\n",
       "\\end{tabular}\n"
      ],
      "text/markdown": [
       "\n",
       "| <!--/--> | Astrocyte...cerebellum..donor1.CNhs11321.11500.119F6 | Astrocyte...cerebral.cortex..donor1.CNhs10864.11235.116D2 | brain..adult..donor1.CNhs11796.10084.102B3 | brain..adult..pool1.CNhs10617.10012.101C3 | brain..fetal..pool1.CNhs11797.10085.102B4 | breast..adult..donor1.CNhs11792.10080.102A8 | cerebellum...adult..donor10196.CNhs13799.10173.103C2 | cerebellum..adult..donor10252.CNhs12323.10166.103B4 | cerebellum..newborn..donor10223.CNhs14075.10357.105E6 | dura.mater..adult..donor1.CNhs10648.10041.101F5 | ⋯ | thalamus...adult..donor10196.CNhs13794.10168.103B6 | thalamus..adult..donor10252.CNhs12314.10154.103A1 | thalamus..adult..donor10258..tech_rep1.CNhs14223.10370.105G1 | thalamus..adult..donor10258..tech_rep2.CNhs14551.10370.105G1 | thalamus..newborn..donor10223.CNhs14084.10366.105F6 | throat..fetal..donor1.CNhs11770.10061.101H7 | thyroid..fetal..donor1.CNhs11769.10060.101H6 | tongue.epidermis..fungiform.papillae...donor1.CNhs13460.10288.104F9 | umbilical.cord..fetal..donor1.CNhs11765.10057.101H3 | uterus..fetal..donor1.CNhs11763.10055.101H1 | \n",
       "|---|---|---|---|---|---|\n",
       "| uniprot:Q9Y6Y8,uniprot:F5H0L8 | 29.55  | 34.63  | 35.87  | 26.530 | 31.94  | 42.77  | 64.08  | 34.17  | 42.93  | 43.730 | ⋯      | 53.07  | 24.72  | 31.06  | 41.81  | 43.47  | 51.66  | 62.450 | 51.60  | 44.58  | 39.060 | \n",
       "| uniprot:Q9Y6Y9,uniprot:D0VAW8 |  0.00  |  0.00  |  0.00  |  0.185 |  0.00  |  0.72  |  0.00  |  0.11  |  0.26  |  1.485 | ⋯      |  0.83  |  0.52  |  0.00  |  0.00  |  1.07  |  0.12  |  0.305 |  0.00  |  0.00  |  0.405 | \n",
       "| uniprot:Q9Y6Y9,uniprot:E5RJJ7 |  0.49  |  0.29  |  2.91  | 13.080 |  2.00  | 18.12  |  1.53  |  3.10  |  4.66  | 29.190 | ⋯      | 11.61  | 12.10  |  7.06  |  7.25  | 14.96  |  5.24  |  1.410 |  2.58  |  9.39  |  7.730 | \n",
       "| uniprot:Q9Y6Z2 |  0.00  |  0.00  |  0.00  |  0.000 |  0.00  |  0.00  |  0.00  |  0.00  |  0.00  |  0.000 | ⋯      |  0.00  |  0.21  |  0.00  |  0.00  |  0.00  |  1.67  |  3.230 |  0.00  |  0.00  |  0.000 | \n",
       "| uniprot:Q9Y6Z5 |  0.37  |  0.86  |  0.00  |  0.280 |  9.98  |  0.00  |  0.00  |  0.55  |  3.62  |  0.000 | ⋯      |  0.00  |  0.41  |  0.00  |  0.00  |  0.00  |  0.48  |  0.200 |  0.00  |  0.00  |  0.810 | \n",
       "| uniprot:Q9Y6Z7 |  0.00  |  0.00  |  0.00  |  0.000 |  0.00  |  0.00  |  0.00  |  0.00  |  0.00  |  0.000 | ⋯      |  0.00  |  0.00  |  0.00  |  0.00  |  0.00  |  0.00  |  0.000 |  0.00  |  0.00  |  0.000 | \n",
       "\n",
       "\n"
      ],
      "text/plain": [
       "                              Astrocyte...cerebellum..donor1.CNhs11321.11500.119F6\n",
       "uniprot:Q9Y6Y8,uniprot:F5H0L8 29.55                                               \n",
       "uniprot:Q9Y6Y9,uniprot:D0VAW8  0.00                                               \n",
       "uniprot:Q9Y6Y9,uniprot:E5RJJ7  0.49                                               \n",
       "uniprot:Q9Y6Z2                 0.00                                               \n",
       "uniprot:Q9Y6Z5                 0.37                                               \n",
       "uniprot:Q9Y6Z7                 0.00                                               \n",
       "                              Astrocyte...cerebral.cortex..donor1.CNhs10864.11235.116D2\n",
       "uniprot:Q9Y6Y8,uniprot:F5H0L8 34.63                                                    \n",
       "uniprot:Q9Y6Y9,uniprot:D0VAW8  0.00                                                    \n",
       "uniprot:Q9Y6Y9,uniprot:E5RJJ7  0.29                                                    \n",
       "uniprot:Q9Y6Z2                 0.00                                                    \n",
       "uniprot:Q9Y6Z5                 0.86                                                    \n",
       "uniprot:Q9Y6Z7                 0.00                                                    \n",
       "                              brain..adult..donor1.CNhs11796.10084.102B3\n",
       "uniprot:Q9Y6Y8,uniprot:F5H0L8 35.87                                     \n",
       "uniprot:Q9Y6Y9,uniprot:D0VAW8  0.00                                     \n",
       "uniprot:Q9Y6Y9,uniprot:E5RJJ7  2.91                                     \n",
       "uniprot:Q9Y6Z2                 0.00                                     \n",
       "uniprot:Q9Y6Z5                 0.00                                     \n",
       "uniprot:Q9Y6Z7                 0.00                                     \n",
       "                              brain..adult..pool1.CNhs10617.10012.101C3\n",
       "uniprot:Q9Y6Y8,uniprot:F5H0L8 26.530                                   \n",
       "uniprot:Q9Y6Y9,uniprot:D0VAW8  0.185                                   \n",
       "uniprot:Q9Y6Y9,uniprot:E5RJJ7 13.080                                   \n",
       "uniprot:Q9Y6Z2                 0.000                                   \n",
       "uniprot:Q9Y6Z5                 0.280                                   \n",
       "uniprot:Q9Y6Z7                 0.000                                   \n",
       "                              brain..fetal..pool1.CNhs11797.10085.102B4\n",
       "uniprot:Q9Y6Y8,uniprot:F5H0L8 31.94                                    \n",
       "uniprot:Q9Y6Y9,uniprot:D0VAW8  0.00                                    \n",
       "uniprot:Q9Y6Y9,uniprot:E5RJJ7  2.00                                    \n",
       "uniprot:Q9Y6Z2                 0.00                                    \n",
       "uniprot:Q9Y6Z5                 9.98                                    \n",
       "uniprot:Q9Y6Z7                 0.00                                    \n",
       "                              breast..adult..donor1.CNhs11792.10080.102A8\n",
       "uniprot:Q9Y6Y8,uniprot:F5H0L8 42.77                                      \n",
       "uniprot:Q9Y6Y9,uniprot:D0VAW8  0.72                                      \n",
       "uniprot:Q9Y6Y9,uniprot:E5RJJ7 18.12                                      \n",
       "uniprot:Q9Y6Z2                 0.00                                      \n",
       "uniprot:Q9Y6Z5                 0.00                                      \n",
       "uniprot:Q9Y6Z7                 0.00                                      \n",
       "                              cerebellum...adult..donor10196.CNhs13799.10173.103C2\n",
       "uniprot:Q9Y6Y8,uniprot:F5H0L8 64.08                                               \n",
       "uniprot:Q9Y6Y9,uniprot:D0VAW8  0.00                                               \n",
       "uniprot:Q9Y6Y9,uniprot:E5RJJ7  1.53                                               \n",
       "uniprot:Q9Y6Z2                 0.00                                               \n",
       "uniprot:Q9Y6Z5                 0.00                                               \n",
       "uniprot:Q9Y6Z7                 0.00                                               \n",
       "                              cerebellum..adult..donor10252.CNhs12323.10166.103B4\n",
       "uniprot:Q9Y6Y8,uniprot:F5H0L8 34.17                                              \n",
       "uniprot:Q9Y6Y9,uniprot:D0VAW8  0.11                                              \n",
       "uniprot:Q9Y6Y9,uniprot:E5RJJ7  3.10                                              \n",
       "uniprot:Q9Y6Z2                 0.00                                              \n",
       "uniprot:Q9Y6Z5                 0.55                                              \n",
       "uniprot:Q9Y6Z7                 0.00                                              \n",
       "                              cerebellum..newborn..donor10223.CNhs14075.10357.105E6\n",
       "uniprot:Q9Y6Y8,uniprot:F5H0L8 42.93                                                \n",
       "uniprot:Q9Y6Y9,uniprot:D0VAW8  0.26                                                \n",
       "uniprot:Q9Y6Y9,uniprot:E5RJJ7  4.66                                                \n",
       "uniprot:Q9Y6Z2                 0.00                                                \n",
       "uniprot:Q9Y6Z5                 3.62                                                \n",
       "uniprot:Q9Y6Z7                 0.00                                                \n",
       "                              dura.mater..adult..donor1.CNhs10648.10041.101F5 ⋯\n",
       "uniprot:Q9Y6Y8,uniprot:F5H0L8 43.730                                          ⋯\n",
       "uniprot:Q9Y6Y9,uniprot:D0VAW8  1.485                                          ⋯\n",
       "uniprot:Q9Y6Y9,uniprot:E5RJJ7 29.190                                          ⋯\n",
       "uniprot:Q9Y6Z2                 0.000                                          ⋯\n",
       "uniprot:Q9Y6Z5                 0.000                                          ⋯\n",
       "uniprot:Q9Y6Z7                 0.000                                          ⋯\n",
       "                              thalamus...adult..donor10196.CNhs13794.10168.103B6\n",
       "uniprot:Q9Y6Y8,uniprot:F5H0L8 53.07                                             \n",
       "uniprot:Q9Y6Y9,uniprot:D0VAW8  0.83                                             \n",
       "uniprot:Q9Y6Y9,uniprot:E5RJJ7 11.61                                             \n",
       "uniprot:Q9Y6Z2                 0.00                                             \n",
       "uniprot:Q9Y6Z5                 0.00                                             \n",
       "uniprot:Q9Y6Z7                 0.00                                             \n",
       "                              thalamus..adult..donor10252.CNhs12314.10154.103A1\n",
       "uniprot:Q9Y6Y8,uniprot:F5H0L8 24.72                                            \n",
       "uniprot:Q9Y6Y9,uniprot:D0VAW8  0.52                                            \n",
       "uniprot:Q9Y6Y9,uniprot:E5RJJ7 12.10                                            \n",
       "uniprot:Q9Y6Z2                 0.21                                            \n",
       "uniprot:Q9Y6Z5                 0.41                                            \n",
       "uniprot:Q9Y6Z7                 0.00                                            \n",
       "                              thalamus..adult..donor10258..tech_rep1.CNhs14223.10370.105G1\n",
       "uniprot:Q9Y6Y8,uniprot:F5H0L8 31.06                                                       \n",
       "uniprot:Q9Y6Y9,uniprot:D0VAW8  0.00                                                       \n",
       "uniprot:Q9Y6Y9,uniprot:E5RJJ7  7.06                                                       \n",
       "uniprot:Q9Y6Z2                 0.00                                                       \n",
       "uniprot:Q9Y6Z5                 0.00                                                       \n",
       "uniprot:Q9Y6Z7                 0.00                                                       \n",
       "                              thalamus..adult..donor10258..tech_rep2.CNhs14551.10370.105G1\n",
       "uniprot:Q9Y6Y8,uniprot:F5H0L8 41.81                                                       \n",
       "uniprot:Q9Y6Y9,uniprot:D0VAW8  0.00                                                       \n",
       "uniprot:Q9Y6Y9,uniprot:E5RJJ7  7.25                                                       \n",
       "uniprot:Q9Y6Z2                 0.00                                                       \n",
       "uniprot:Q9Y6Z5                 0.00                                                       \n",
       "uniprot:Q9Y6Z7                 0.00                                                       \n",
       "                              thalamus..newborn..donor10223.CNhs14084.10366.105F6\n",
       "uniprot:Q9Y6Y8,uniprot:F5H0L8 43.47                                              \n",
       "uniprot:Q9Y6Y9,uniprot:D0VAW8  1.07                                              \n",
       "uniprot:Q9Y6Y9,uniprot:E5RJJ7 14.96                                              \n",
       "uniprot:Q9Y6Z2                 0.00                                              \n",
       "uniprot:Q9Y6Z5                 0.00                                              \n",
       "uniprot:Q9Y6Z7                 0.00                                              \n",
       "                              throat..fetal..donor1.CNhs11770.10061.101H7\n",
       "uniprot:Q9Y6Y8,uniprot:F5H0L8 51.66                                      \n",
       "uniprot:Q9Y6Y9,uniprot:D0VAW8  0.12                                      \n",
       "uniprot:Q9Y6Y9,uniprot:E5RJJ7  5.24                                      \n",
       "uniprot:Q9Y6Z2                 1.67                                      \n",
       "uniprot:Q9Y6Z5                 0.48                                      \n",
       "uniprot:Q9Y6Z7                 0.00                                      \n",
       "                              thyroid..fetal..donor1.CNhs11769.10060.101H6\n",
       "uniprot:Q9Y6Y8,uniprot:F5H0L8 62.450                                      \n",
       "uniprot:Q9Y6Y9,uniprot:D0VAW8  0.305                                      \n",
       "uniprot:Q9Y6Y9,uniprot:E5RJJ7  1.410                                      \n",
       "uniprot:Q9Y6Z2                 3.230                                      \n",
       "uniprot:Q9Y6Z5                 0.200                                      \n",
       "uniprot:Q9Y6Z7                 0.000                                      \n",
       "                              tongue.epidermis..fungiform.papillae...donor1.CNhs13460.10288.104F9\n",
       "uniprot:Q9Y6Y8,uniprot:F5H0L8 51.60                                                              \n",
       "uniprot:Q9Y6Y9,uniprot:D0VAW8  0.00                                                              \n",
       "uniprot:Q9Y6Y9,uniprot:E5RJJ7  2.58                                                              \n",
       "uniprot:Q9Y6Z2                 0.00                                                              \n",
       "uniprot:Q9Y6Z5                 0.00                                                              \n",
       "uniprot:Q9Y6Z7                 0.00                                                              \n",
       "                              umbilical.cord..fetal..donor1.CNhs11765.10057.101H3\n",
       "uniprot:Q9Y6Y8,uniprot:F5H0L8 44.58                                              \n",
       "uniprot:Q9Y6Y9,uniprot:D0VAW8  0.00                                              \n",
       "uniprot:Q9Y6Y9,uniprot:E5RJJ7  9.39                                              \n",
       "uniprot:Q9Y6Z2                 0.00                                              \n",
       "uniprot:Q9Y6Z5                 0.00                                              \n",
       "uniprot:Q9Y6Z7                 0.00                                              \n",
       "                              uterus..fetal..donor1.CNhs11763.10055.101H1\n",
       "uniprot:Q9Y6Y8,uniprot:F5H0L8 39.060                                     \n",
       "uniprot:Q9Y6Y9,uniprot:D0VAW8  0.405                                     \n",
       "uniprot:Q9Y6Y9,uniprot:E5RJJ7  7.730                                     \n",
       "uniprot:Q9Y6Z2                 0.000                                     \n",
       "uniprot:Q9Y6Z5                 0.810                                     \n",
       "uniprot:Q9Y6Z7                 0.000                                     "
      ]
     },
     "metadata": {},
     "output_type": "display_data"
    }
   ],
   "source": [
    "small_dts <- small_dts[,-1]\n",
    "tail(small_dts)"
   ]
  },
  {
   "cell_type": "markdown",
   "metadata": {},
   "source": [
    "#### Filter only heart tissues columns\n",
    "\n",
    "We got just two tissues to work with, one taken from a diseased heart and the second from other diseased heart but after a infarct."
   ]
  },
  {
   "cell_type": "code",
   "execution_count": 129,
   "metadata": {
    "collapsed": false
   },
   "outputs": [
    {
     "data": {
      "text/html": [
       "<table>\n",
       "<thead><tr><th></th><th scope=col>heart..adult..diseased.post.infarction..donor1.CNhs11757.10050.101G5</th><th scope=col>heart..adult..diseased..donor1.CNhs11758.10051.101G6</th></tr></thead>\n",
       "<tbody>\n",
       "\t<tr><th scope=row>uniprot:A0A183</th><td>0.2</td><td>0  </td></tr>\n",
       "\t<tr><th scope=row>uniprot:A0A577,uniprot:Q5ZGI7</th><td>0.0</td><td>0  </td></tr>\n",
       "\t<tr><th scope=row>uniprot:A0A582</th><td>0.0</td><td>0  </td></tr>\n",
       "\t<tr><th scope=row>uniprot:A0A583</th><td>0.1</td><td>0  </td></tr>\n",
       "\t<tr><th scope=row>uniprot:A0A597</th><td>0.0</td><td>0  </td></tr>\n",
       "\t<tr><th scope=row>uniprot:A0A599</th><td>0.0</td><td>0  </td></tr>\n",
       "</tbody>\n",
       "</table>\n"
      ],
      "text/latex": [
       "\\begin{tabular}{r|ll}\n",
       "  & heart..adult..diseased.post.infarction..donor1.CNhs11757.10050.101G5 & heart..adult..diseased..donor1.CNhs11758.10051.101G6\\\\\n",
       "\\hline\n",
       "\tuniprot:A0A183 & 0.2 & 0  \\\\\n",
       "\tuniprot:A0A577,uniprot:Q5ZGI7 & 0.0 & 0  \\\\\n",
       "\tuniprot:A0A582 & 0.0 & 0  \\\\\n",
       "\tuniprot:A0A583 & 0.1 & 0  \\\\\n",
       "\tuniprot:A0A597 & 0.0 & 0  \\\\\n",
       "\tuniprot:A0A599 & 0.0 & 0  \\\\\n",
       "\\end{tabular}\n"
      ],
      "text/markdown": [
       "\n",
       "| <!--/--> | heart..adult..diseased.post.infarction..donor1.CNhs11757.10050.101G5 | heart..adult..diseased..donor1.CNhs11758.10051.101G6 | \n",
       "|---|---|---|---|---|---|\n",
       "| uniprot:A0A183 | 0.2 | 0   | \n",
       "| uniprot:A0A577,uniprot:Q5ZGI7 | 0.0 | 0   | \n",
       "| uniprot:A0A582 | 0.0 | 0   | \n",
       "| uniprot:A0A583 | 0.1 | 0   | \n",
       "| uniprot:A0A597 | 0.0 | 0   | \n",
       "| uniprot:A0A599 | 0.0 | 0   | \n",
       "\n",
       "\n"
      ],
      "text/plain": [
       "                              heart..adult..diseased.post.infarction..donor1.CNhs11757.10050.101G5\n",
       "uniprot:A0A183                0.2                                                                 \n",
       "uniprot:A0A577,uniprot:Q5ZGI7 0.0                                                                 \n",
       "uniprot:A0A582                0.0                                                                 \n",
       "uniprot:A0A583                0.1                                                                 \n",
       "uniprot:A0A597                0.0                                                                 \n",
       "uniprot:A0A599                0.0                                                                 \n",
       "                              heart..adult..diseased..donor1.CNhs11758.10051.101G6\n",
       "uniprot:A0A183                0                                                   \n",
       "uniprot:A0A577,uniprot:Q5ZGI7 0                                                   \n",
       "uniprot:A0A582                0                                                   \n",
       "uniprot:A0A583                0                                                   \n",
       "uniprot:A0A597                0                                                   \n",
       "uniprot:A0A599                0                                                   "
      ]
     },
     "metadata": {},
     "output_type": "display_data"
    }
   ],
   "source": [
    "hearts <- grepl(\"heart\", colnames(small_dts))\n",
    "small_dts <- small_dts[hearts]\n",
    "head(small_dts)"
   ]
  },
  {
   "cell_type": "code",
   "execution_count": 130,
   "metadata": {
    "collapsed": true
   },
   "outputs": [],
   "source": [
    "colnames(small_dts) <- c(\"post_infarct\", \"pre_infarct\")\n",
    "# transform(small_dts, post_infarct = as.numeric(post_infarct), pre_infarct = as.numeric(pre_infarct))"
   ]
  },
  {
   "cell_type": "markdown",
   "metadata": {},
   "source": [
    "### Compute MA\n",
    "\n",
    "MA is a measure that consists on plotting the sum of the gen expressions of two observations on the difference of them. Thereupon,\n",
    "\n",
    "- A = observ1 + observ2\n",
    "- M = observ1 - observ2\n",
    "\n",
    "The more similar the values are, the closer to the x axis they will be. We use scale to normalize the data. It will calculate the mean and standard deviation (sd) of the entire vector, then \"scale\" each element by those values by subtracting the mean and dividing by the sd."
   ]
  },
  {
   "cell_type": "code",
   "execution_count": 131,
   "metadata": {
    "collapsed": false
   },
   "outputs": [
    {
     "data": {
      "text/html": [
       "<table>\n",
       "<tbody>\n",
       "\t<tr><th scope=row>uniprot:A0A183</th><td>0.03919355</td></tr>\n",
       "\t<tr><th scope=row>uniprot:A0A577,uniprot:Q5ZGI7</th><td>0.03746721</td></tr>\n",
       "\t<tr><th scope=row>uniprot:A0A582</th><td>0.03746721</td></tr>\n",
       "\t<tr><th scope=row>uniprot:A0A583</th><td>0.03833038</td></tr>\n",
       "\t<tr><th scope=row>uniprot:A0A597</th><td>0.03746721</td></tr>\n",
       "\t<tr><th scope=row>uniprot:A0A599</th><td>0.03746721</td></tr>\n",
       "</tbody>\n",
       "</table>\n"
      ],
      "text/latex": [
       "\\begin{tabular}{r|l}\n",
       "\tuniprot:A0A183 & 0.03919355\\\\\n",
       "\tuniprot:A0A577,uniprot:Q5ZGI7 & 0.03746721\\\\\n",
       "\tuniprot:A0A582 & 0.03746721\\\\\n",
       "\tuniprot:A0A583 & 0.03833038\\\\\n",
       "\tuniprot:A0A597 & 0.03746721\\\\\n",
       "\tuniprot:A0A599 & 0.03746721\\\\\n",
       "\\end{tabular}\n"
      ],
      "text/markdown": [
       "\n",
       "| uniprot:A0A183 | 0.03919355 | \n",
       "| uniprot:A0A577,uniprot:Q5ZGI7 | 0.03746721 | \n",
       "| uniprot:A0A582 | 0.03746721 | \n",
       "| uniprot:A0A583 | 0.03833038 | \n",
       "| uniprot:A0A597 | 0.03746721 | \n",
       "| uniprot:A0A599 | 0.03746721 | \n",
       "\n",
       "\n"
      ],
      "text/plain": [
       "                              [,1]      \n",
       "uniprot:A0A183                0.03919355\n",
       "uniprot:A0A577,uniprot:Q5ZGI7 0.03746721\n",
       "uniprot:A0A582                0.03746721\n",
       "uniprot:A0A583                0.03833038\n",
       "uniprot:A0A597                0.03746721\n",
       "uniprot:A0A599                0.03746721"
      ]
     },
     "metadata": {},
     "output_type": "display_data"
    }
   ],
   "source": [
    "A <- scale(rowSums(small_dts))\n",
    "M <- scale(rowSums(transform(small_dts, pre_infarct = -(pre_infarct))))\n",
    "head(M)"
   ]
  },
  {
   "cell_type": "markdown",
   "metadata": {},
   "source": [
    "#### Plot results\n",
    "\n",
    "We can observe that there are a few outliers."
   ]
  },
  {
   "cell_type": "code",
   "execution_count": 132,
   "metadata": {
    "collapsed": false
   },
   "outputs": [
    {
     "data": {},
     "metadata": {},
     "output_type": "display_data"
    },
    {
     "data": {
      "image/png": "[encoded data removed]",
      "text/plain": [
       "plot without title"
      ]
     },
     "metadata": {},
     "output_type": "display_data"
    }
   ],
   "source": [
    "library(ggplot2)\n",
    "\n",
    "sct <- ggplot(small_dts, aes(y=M, x=A)) + geom_point()\n",
    "sct"
   ]
  },
  {
   "cell_type": "markdown",
   "metadata": {},
   "source": [
    "We zoom on the two outliers on the lower right corner and show their uniprot_ids."
   ]
  },
  {
   "cell_type": "code",
   "execution_count": 133,
   "metadata": {
    "collapsed": false
   },
   "outputs": [
    {
     "data": {},
     "metadata": {},
     "output_type": "display_data"
    },
    {
     "data": {
      "image/png": "[encoded data removed]",
      "text/plain": [
       "plot without title"
      ]
     },
     "metadata": {},
     "output_type": "display_data"
    }
   ],
   "source": [
    "sct + coord_cartesian(xlim = c(80,90),ylim= c(-75,-105)) +  geom_text(aes(label=rownames(small_dts)), size = 5)"
   ]
  },
  {
   "cell_type": "markdown",
   "metadata": {},
   "source": [
    "And do the same on the center of the graphic where the are some values that differ, less than the two above, from the others."
   ]
  },
  {
   "cell_type": "code",
   "execution_count": 134,
   "metadata": {
    "collapsed": false
   },
   "outputs": [
    {
     "data": {},
     "metadata": {},
     "output_type": "display_data"
    },
    {
     "data": {
      "image/png": "[encoded data removed]",
      "text/plain": [
       "plot without title"
      ]
     },
     "metadata": {},
     "output_type": "display_data"
    }
   ],
   "source": [
    "sct + coord_cartesian(xlim = c(25,60),ylim= c(-25,-50)) +  geom_text(aes(label=rownames(small_dts)), size = 3)"
   ]
  },
  {
   "cell_type": "markdown",
   "metadata": {},
   "source": [
    "Unless we use an interactive plot, this does not seem to be a good method to visualize outliers."
   ]
  },
  {
   "cell_type": "markdown",
   "metadata": {},
   "source": [
    "### Compute K-Means"
   ]
  },
  {
   "cell_type": "markdown",
   "metadata": {},
   "source": [
    "#### K-Means for 2 clusters.\n",
    "\n",
    "We chose 2 clusters because we want to divide gens in two groups: One that affects on infarcts, on the other that does not."
   ]
  },
  {
   "cell_type": "code",
   "execution_count": 136,
   "metadata": {
    "collapsed": true
   },
   "outputs": [],
   "source": [
    "nhc_kmeans <- kmeans(small_dts,2)"
   ]
  },
  {
   "cell_type": "markdown",
   "metadata": {},
   "source": [
    "Looking at the results, it seems that there are some genes that modify their behaviour once an infarct affects the patient."
   ]
  },
  {
   "cell_type": "code",
   "execution_count": 137,
   "metadata": {
    "collapsed": false
   },
   "outputs": [
    {
     "name": "stdout",
     "output_type": "stream",
     "text": [
      "Size of clusters"
     ]
    },
    {
     "data": {
      "text/html": [
       "<table>\n",
       "<thead><tr><th></th><th scope=col>nhc_kmeans.size</th></tr></thead>\n",
       "<tbody>\n",
       "\t<tr><th scope=row>Cluster 1</th><td>31437</td></tr>\n",
       "\t<tr><th scope=row>Cluster 2</th><td>   15</td></tr>\n",
       "</tbody>\n",
       "</table>\n"
      ],
      "text/latex": [
       "\\begin{tabular}{r|l}\n",
       "  & nhc\\_kmeans.size\\\\\n",
       "\\hline\n",
       "\tCluster 1 & 31437\\\\\n",
       "\tCluster 2 &    15\\\\\n",
       "\\end{tabular}\n"
      ],
      "text/markdown": [
       "\n",
       "| <!--/--> | nhc_kmeans.size | \n",
       "|---|---|\n",
       "| Cluster 1 | 31437 | \n",
       "| Cluster 2 |    15 | \n",
       "\n",
       "\n"
      ],
      "text/plain": [
       "          nhc_kmeans.size\n",
       "Cluster 1 31437          \n",
       "Cluster 2    15          "
      ]
     },
     "metadata": {},
     "output_type": "display_data"
    }
   ],
   "source": [
    "cat(\"Size of clusters\")\n",
    "data.frame(nhc_kmeans$size, row.names = c('Cluster 1', 'Cluster 2'))"
   ]
  },
  {
   "cell_type": "code",
   "execution_count": 141,
   "metadata": {
    "collapsed": false
   },
   "outputs": [
    {
     "data": {
      "text/html": [
       "<ol class=list-inline>\n",
       "\t<li>'uniprot:B0QYF7,uniprot:B4DUI1,uniprot:P02144'</li>\n",
       "\t<li>'uniprot:B4DL87,uniprot:F8WE04'</li>\n",
       "\t<li>'uniprot:D3YTC6,uniprot:F6SZA2'</li>\n",
       "\t<li>'uniprot:E7ET18,uniprot:A6NKB1,uniprot:E7EQE6,uniprot:Q8WZ42,uniprot:E9PPD3'</li>\n",
       "\t<li>'uniprot:F5H4L2,uniprot:P12883'</li>\n",
       "\t<li>'uniprot:F8W7I2,uniprot:P41222,uniprot:Q5SQ11'</li>\n",
       "</ol>\n"
      ],
      "text/latex": [
       "\\begin{enumerate*}\n",
       "\\item 'uniprot:B0QYF7,uniprot:B4DUI1,uniprot:P02144'\n",
       "\\item 'uniprot:B4DL87,uniprot:F8WE04'\n",
       "\\item 'uniprot:D3YTC6,uniprot:F6SZA2'\n",
       "\\item 'uniprot:E7ET18,uniprot:A6NKB1,uniprot:E7EQE6,uniprot:Q8WZ42,uniprot:E9PPD3'\n",
       "\\item 'uniprot:F5H4L2,uniprot:P12883'\n",
       "\\item 'uniprot:F8W7I2,uniprot:P41222,uniprot:Q5SQ11'\n",
       "\\end{enumerate*}\n"
      ],
      "text/markdown": [
       "1. 'uniprot:B0QYF7,uniprot:B4DUI1,uniprot:P02144'\n",
       "2. 'uniprot:B4DL87,uniprot:F8WE04'\n",
       "3. 'uniprot:D3YTC6,uniprot:F6SZA2'\n",
       "4. 'uniprot:E7ET18,uniprot:A6NKB1,uniprot:E7EQE6,uniprot:Q8WZ42,uniprot:E9PPD3'\n",
       "5. 'uniprot:F5H4L2,uniprot:P12883'\n",
       "6. 'uniprot:F8W7I2,uniprot:P41222,uniprot:Q5SQ11'\n",
       "\n",
       "\n"
      ],
      "text/plain": [
       "[1] \"uniprot:B0QYF7,uniprot:B4DUI1,uniprot:P02144\"                              \n",
       "[2] \"uniprot:B4DL87,uniprot:F8WE04\"                                             \n",
       "[3] \"uniprot:D3YTC6,uniprot:F6SZA2\"                                             \n",
       "[4] \"uniprot:E7ET18,uniprot:A6NKB1,uniprot:E7EQE6,uniprot:Q8WZ42,uniprot:E9PPD3\"\n",
       "[5] \"uniprot:F5H4L2,uniprot:P12883\"                                             \n",
       "[6] \"uniprot:F8W7I2,uniprot:P41222,uniprot:Q5SQ11\"                              "
      ]
     },
     "metadata": {},
     "output_type": "display_data"
    }
   ],
   "source": [
    "htmap <- t(as.data.frame(nhc_kmeans$cluster))\n",
    "fil <- htmap[,htmap[1,]==2, drop=FALSE]\n",
    "head(colnames(fil))"
   ]
  },
  {
   "cell_type": "markdown",
   "metadata": {},
   "source": [
    "Now, we can take a look on the original values and see directly their variations."
   ]
  },
  {
   "cell_type": "code",
   "execution_count": 142,
   "metadata": {
    "collapsed": true
   },
   "outputs": [],
   "source": [
    "only_sp <- dts[dts$uniprot_id %in% colnames(fil),]\n",
    "hearts <- grepl(\"heart\", colnames(only_sp))\n",
    "only_sp <- only_sp[hearts]"
   ]
  },
  {
   "cell_type": "code",
   "execution_count": 143,
   "metadata": {
    "collapsed": false
   },
   "outputs": [
    {
     "data": {
      "text/html": [
       "<table>\n",
       "<thead><tr><th></th><th scope=col>heart..adult..diseased.post.infarction..donor1.CNhs11757.10050.101G5</th><th scope=col>heart..adult..diseased..donor1.CNhs11758.10051.101G6</th></tr></thead>\n",
       "<tbody>\n",
       "\t<tr><th scope=row>uniprot:B0QYF7,uniprot:B4DUI1,uniprot:P02144</th><td>2664.52 </td><td> 6512.22</td></tr>\n",
       "\t<tr><th scope=row>uniprot:B4DL87,uniprot:F8WE04</th><td>7359.37 </td><td>19336.63</td></tr>\n",
       "\t<tr><th scope=row>uniprot:D3YTC6,uniprot:F6SZA2</th><td>2999.18 </td><td> 5711.28</td></tr>\n",
       "\t<tr><th scope=row>uniprot:E7ET18,uniprot:A6NKB1,uniprot:E7EQE6,uniprot:Q8WZ42,uniprot:E9PPD3</th><td>2290.52 </td><td> 5024.95</td></tr>\n",
       "\t<tr><th scope=row>uniprot:F5H4L2,uniprot:P12883</th><td>9245.94 </td><td>18377.74</td></tr>\n",
       "\t<tr><th scope=row>uniprot:F8W7I2,uniprot:P41222,uniprot:Q5SQ11</th><td>3167.91 </td><td> 7903.77</td></tr>\n",
       "</tbody>\n",
       "</table>\n"
      ],
      "text/latex": [
       "\\begin{tabular}{r|ll}\n",
       "  & heart..adult..diseased.post.infarction..donor1.CNhs11757.10050.101G5 & heart..adult..diseased..donor1.CNhs11758.10051.101G6\\\\\n",
       "\\hline\n",
       "\tuniprot:B0QYF7,uniprot:B4DUI1,uniprot:P02144 & 2664.52  &  6512.22\\\\\n",
       "\tuniprot:B4DL87,uniprot:F8WE04 & 7359.37  & 19336.63\\\\\n",
       "\tuniprot:D3YTC6,uniprot:F6SZA2 & 2999.18  &  5711.28\\\\\n",
       "\tuniprot:E7ET18,uniprot:A6NKB1,uniprot:E7EQE6,uniprot:Q8WZ42,uniprot:E9PPD3 & 2290.52  &  5024.95\\\\\n",
       "\tuniprot:F5H4L2,uniprot:P12883 & 9245.94  & 18377.74\\\\\n",
       "\tuniprot:F8W7I2,uniprot:P41222,uniprot:Q5SQ11 & 3167.91  &  7903.77\\\\\n",
       "\\end{tabular}\n"
      ],
      "text/markdown": [
       "\n",
       "| <!--/--> | heart..adult..diseased.post.infarction..donor1.CNhs11757.10050.101G5 | heart..adult..diseased..donor1.CNhs11758.10051.101G6 | \n",
       "|---|---|---|---|---|---|\n",
       "| uniprot:B0QYF7,uniprot:B4DUI1,uniprot:P02144 | 2664.52  |  6512.22 | \n",
       "| uniprot:B4DL87,uniprot:F8WE04 | 7359.37  | 19336.63 | \n",
       "| uniprot:D3YTC6,uniprot:F6SZA2 | 2999.18  |  5711.28 | \n",
       "| uniprot:E7ET18,uniprot:A6NKB1,uniprot:E7EQE6,uniprot:Q8WZ42,uniprot:E9PPD3 | 2290.52  |  5024.95 | \n",
       "| uniprot:F5H4L2,uniprot:P12883 | 9245.94  | 18377.74 | \n",
       "| uniprot:F8W7I2,uniprot:P41222,uniprot:Q5SQ11 | 3167.91  |  7903.77 | \n",
       "\n",
       "\n"
      ],
      "text/plain": [
       "                                                                           heart..adult..diseased.post.infarction..donor1.CNhs11757.10050.101G5\n",
       "uniprot:B0QYF7,uniprot:B4DUI1,uniprot:P02144                               2664.52                                                             \n",
       "uniprot:B4DL87,uniprot:F8WE04                                              7359.37                                                             \n",
       "uniprot:D3YTC6,uniprot:F6SZA2                                              2999.18                                                             \n",
       "uniprot:E7ET18,uniprot:A6NKB1,uniprot:E7EQE6,uniprot:Q8WZ42,uniprot:E9PPD3 2290.52                                                             \n",
       "uniprot:F5H4L2,uniprot:P12883                                              9245.94                                                             \n",
       "uniprot:F8W7I2,uniprot:P41222,uniprot:Q5SQ11                               3167.91                                                             \n",
       "                                                                           heart..adult..diseased..donor1.CNhs11758.10051.101G6\n",
       "uniprot:B0QYF7,uniprot:B4DUI1,uniprot:P02144                                6512.22                                            \n",
       "uniprot:B4DL87,uniprot:F8WE04                                              19336.63                                            \n",
       "uniprot:D3YTC6,uniprot:F6SZA2                                               5711.28                                            \n",
       "uniprot:E7ET18,uniprot:A6NKB1,uniprot:E7EQE6,uniprot:Q8WZ42,uniprot:E9PPD3  5024.95                                            \n",
       "uniprot:F5H4L2,uniprot:P12883                                              18377.74                                            \n",
       "uniprot:F8W7I2,uniprot:P41222,uniprot:Q5SQ11                                7903.77                                            "
      ]
     },
     "metadata": {},
     "output_type": "display_data"
    }
   ],
   "source": [
    "rownames(only_sp) <- colnames(fil)\n",
    "head(only_sp)"
   ]
  },
  {
   "cell_type": "markdown",
   "metadata": {},
   "source": [
    "### Improving accuracy\n",
    "\n",
    "Thanks to the first visualization on the MA plot, we saw that there were 2 points that differed more than the others. We can then cluster over the previous cluster and achieve the same result."
   ]
  },
  {
   "cell_type": "code",
   "execution_count": 144,
   "metadata": {
    "collapsed": false
   },
   "outputs": [],
   "source": [
    "ds <- dist(only_sp)\n",
    "disease_km <- kmeans(ds, 2)"
   ]
  },
  {
   "cell_type": "code",
   "execution_count": 145,
   "metadata": {
    "collapsed": false
   },
   "outputs": [
    {
     "data": {},
     "metadata": {},
     "output_type": "display_data"
    },
    {
     "data": {
      "image/png": "[encoded data removed]",
      "text/plain": [
       "plot without title"
      ]
     },
     "metadata": {},
     "output_type": "display_data"
    }
   ],
   "source": [
    "library(ggfortify)\n",
    "set.seed(1)\n",
    "clt <- kmeans(only_sp, 2)\n",
    "autoplot(clt, data = only_sp, frame=T, frame.type = \"convex\")"
   ]
  },
  {
   "cell_type": "markdown",
   "metadata": {},
   "source": [
    "We get the names of the outliers within the cluster 2"
   ]
  },
  {
   "cell_type": "code",
   "execution_count": 146,
   "metadata": {
    "collapsed": false
   },
   "outputs": [
    {
     "data": {
      "text/html": [
       "<ol class=list-inline>\n",
       "\t<li>'uniprot:B4DL87,uniprot:F8WE04'</li>\n",
       "\t<li>'uniprot:F5H4L2,uniprot:P12883'</li>\n",
       "</ol>\n"
      ],
      "text/latex": [
       "\\begin{enumerate*}\n",
       "\\item 'uniprot:B4DL87,uniprot:F8WE04'\n",
       "\\item 'uniprot:F5H4L2,uniprot:P12883'\n",
       "\\end{enumerate*}\n"
      ],
      "text/markdown": [
       "1. 'uniprot:B4DL87,uniprot:F8WE04'\n",
       "2. 'uniprot:F5H4L2,uniprot:P12883'\n",
       "\n",
       "\n"
      ],
      "text/plain": [
       "[1] \"uniprot:B4DL87,uniprot:F8WE04\" \"uniprot:F5H4L2,uniprot:P12883\""
      ]
     },
     "metadata": {},
     "output_type": "display_data"
    }
   ],
   "source": [
    "htmap <- t(as.data.frame(clt$cluster))\n",
    "fil <- htmap[,htmap[1,]==2, drop=FALSE]\n",
    "colnames(fil)"
   ]
  },
  {
   "cell_type": "markdown",
   "metadata": {},
   "source": [
    "#### Getting information about the proteins.\n",
    "\n",
    "Now that we have identified two proteins that behave different, we just have to search about them to see what we have found. The first pair, B4DL87 and F8WE04 are similar proteins, so this might be the reason of measure them together. For the second pair, there is not information about F5H4L2, so it is not possible to confirm the same fact.\n",
    "\n",
    "The role of HSP27 is to inhibit apoptosis whereas Myosin is involved on muscle contraction.\n",
    "\n",
    "- B4DL87: http://www.uniprot.org/uniprot/B4DL87\n",
    "- F8WE04 (HSP27): http://www.uniprot.org/uniprot/F8WE04\n",
    "\n",
    "    - +info: https://en.wikipedia.org/wiki/Hsp27#Clinical_significance\n",
    "\n",
    "- F5H4L2: http://www.uniprot.org/uniprot/F5H4L2\n",
    "\n",
    "- P12883 (Myosin): http://www.uniprot.org/uniprot/P12883\n",
    "\n",
    "    - +info: https://en.wikipedia.org/wiki/MYH7"
   ]
  }
 ],
 "metadata": {
  "kernelspec": {
   "display_name": "R",
   "language": "R",
   "name": "ir"
  },
  "language_info": {
   "codemirror_mode": "r",
   "file_extension": ".r",
   "mimetype": "text/x-r-source",
   "name": "R",
   "pygments_lexer": "r",
   "version": "3.3.1"
  }
 },
 "nbformat": 4,
 "nbformat_minor": 0
}
